{
 "cells": [
  {
   "cell_type": "code",
   "execution_count": 1,
   "id": "b25451fe",
   "metadata": {},
   "outputs": [],
   "source": [
    "import pandas as pd \n",
    "import numpy as np \n",
    "\n",
    "################# Machine Learning ################\n",
    "import statsmodels\n",
    "from statsmodels.stats.anova import anova_lm\n",
    "from statsmodels.stats.outliers_influence import variance_inflation_factor\n",
    "\n",
    "################# Data Visualization ################\n",
    "import seaborn as sns\n",
    "from matplotlib import pyplot as plt\n",
    "%matplotlib inline"
   ]
  },
  {
   "cell_type": "markdown",
   "id": "c7eb712b",
   "metadata": {},
   "source": [
    "### Data Import"
   ]
  },
  {
   "cell_type": "code",
   "execution_count": 2,
   "id": "c5159e78",
   "metadata": {
    "scrolled": false
   },
   "outputs": [
    {
     "data": {
      "text/html": [
       "<div>\n",
       "<style scoped>\n",
       "    .dataframe tbody tr th:only-of-type {\n",
       "        vertical-align: middle;\n",
       "    }\n",
       "\n",
       "    .dataframe tbody tr th {\n",
       "        vertical-align: top;\n",
       "    }\n",
       "\n",
       "    .dataframe thead th {\n",
       "        text-align: right;\n",
       "    }\n",
       "</style>\n",
       "<table border=\"1\" class=\"dataframe\">\n",
       "  <thead>\n",
       "    <tr style=\"text-align: right;\">\n",
       "      <th></th>\n",
       "      <th>PM10</th>\n",
       "      <th>Pb</th>\n",
       "      <th>Cd</th>\n",
       "      <th>Cu</th>\n",
       "      <th>Cr</th>\n",
       "      <th>Zn</th>\n",
       "      <th>NOx</th>\n",
       "      <th>SO2</th>\n",
       "      <th>Site</th>\n",
       "      <th>Date</th>\n",
       "      <th>Season</th>\n",
       "    </tr>\n",
       "  </thead>\n",
       "  <tbody>\n",
       "    <tr>\n",
       "      <th>0</th>\n",
       "      <td>120.71</td>\n",
       "      <td>2.67</td>\n",
       "      <td>0.01</td>\n",
       "      <td>0.53</td>\n",
       "      <td>0.61</td>\n",
       "      <td>0</td>\n",
       "      <td>84.17</td>\n",
       "      <td>40.37</td>\n",
       "      <td>Mandai</td>\n",
       "      <td>2004-02-07</td>\n",
       "      <td>Summer</td>\n",
       "    </tr>\n",
       "    <tr>\n",
       "      <th>1</th>\n",
       "      <td>140.25</td>\n",
       "      <td>3.49</td>\n",
       "      <td>0.02</td>\n",
       "      <td>0.10</td>\n",
       "      <td>0.91</td>\n",
       "      <td>0</td>\n",
       "      <td>88.81</td>\n",
       "      <td>39.48</td>\n",
       "      <td>Mandai</td>\n",
       "      <td>2004-02-14</td>\n",
       "      <td>Summer</td>\n",
       "    </tr>\n",
       "    <tr>\n",
       "      <th>2</th>\n",
       "      <td>107.01</td>\n",
       "      <td>1.31</td>\n",
       "      <td>0.01</td>\n",
       "      <td>0.19</td>\n",
       "      <td>0.48</td>\n",
       "      <td>0</td>\n",
       "      <td>81.49</td>\n",
       "      <td>48.29</td>\n",
       "      <td>Mandai</td>\n",
       "      <td>2004-02-21</td>\n",
       "      <td>Summer</td>\n",
       "    </tr>\n",
       "    <tr>\n",
       "      <th>3</th>\n",
       "      <td>88.81</td>\n",
       "      <td>0.76</td>\n",
       "      <td>0.00</td>\n",
       "      <td>0.33</td>\n",
       "      <td>0.39</td>\n",
       "      <td>0</td>\n",
       "      <td>61.80</td>\n",
       "      <td>27.42</td>\n",
       "      <td>Mandai</td>\n",
       "      <td>2004-02-28</td>\n",
       "      <td>Summer</td>\n",
       "    </tr>\n",
       "    <tr>\n",
       "      <th>4</th>\n",
       "      <td>75.05</td>\n",
       "      <td>0.60</td>\n",
       "      <td>0.00</td>\n",
       "      <td>0.41</td>\n",
       "      <td>1.54</td>\n",
       "      <td>0</td>\n",
       "      <td>48.71</td>\n",
       "      <td>19.23</td>\n",
       "      <td>Mandai</td>\n",
       "      <td>2004-03-06</td>\n",
       "      <td>Summer</td>\n",
       "    </tr>\n",
       "    <tr>\n",
       "      <th>...</th>\n",
       "      <td>...</td>\n",
       "      <td>...</td>\n",
       "      <td>...</td>\n",
       "      <td>...</td>\n",
       "      <td>...</td>\n",
       "      <td>...</td>\n",
       "      <td>...</td>\n",
       "      <td>...</td>\n",
       "      <td>...</td>\n",
       "      <td>...</td>\n",
       "      <td>...</td>\n",
       "    </tr>\n",
       "    <tr>\n",
       "      <th>146</th>\n",
       "      <td>40.13</td>\n",
       "      <td>0.10</td>\n",
       "      <td>0.00</td>\n",
       "      <td>0.04</td>\n",
       "      <td>0.09</td>\n",
       "      <td>0</td>\n",
       "      <td>18.88</td>\n",
       "      <td>10.09</td>\n",
       "      <td>Bhosari</td>\n",
       "      <td>2004-09-01</td>\n",
       "      <td>Monsoon</td>\n",
       "    </tr>\n",
       "    <tr>\n",
       "      <th>147</th>\n",
       "      <td>40.38</td>\n",
       "      <td>0.10</td>\n",
       "      <td>0.00</td>\n",
       "      <td>0.03</td>\n",
       "      <td>0.09</td>\n",
       "      <td>0</td>\n",
       "      <td>47.56</td>\n",
       "      <td>24.14</td>\n",
       "      <td>Bhosari</td>\n",
       "      <td>2004-09-08</td>\n",
       "      <td>Monsoon</td>\n",
       "    </tr>\n",
       "    <tr>\n",
       "      <th>148</th>\n",
       "      <td>31.28</td>\n",
       "      <td>0.11</td>\n",
       "      <td>0.00</td>\n",
       "      <td>0.02</td>\n",
       "      <td>0.05</td>\n",
       "      <td>0</td>\n",
       "      <td>31.53</td>\n",
       "      <td>26.64</td>\n",
       "      <td>Bhosari</td>\n",
       "      <td>2004-09-15</td>\n",
       "      <td>Monsoon</td>\n",
       "    </tr>\n",
       "    <tr>\n",
       "      <th>149</th>\n",
       "      <td>52.10</td>\n",
       "      <td>0.48</td>\n",
       "      <td>0.00</td>\n",
       "      <td>0.04</td>\n",
       "      <td>0.06</td>\n",
       "      <td>0</td>\n",
       "      <td>42.08</td>\n",
       "      <td>22.95</td>\n",
       "      <td>Bhosari</td>\n",
       "      <td>2004-09-22</td>\n",
       "      <td>Monsoon</td>\n",
       "    </tr>\n",
       "    <tr>\n",
       "      <th>150</th>\n",
       "      <td>27.19</td>\n",
       "      <td>0.02</td>\n",
       "      <td>0.00</td>\n",
       "      <td>0.02</td>\n",
       "      <td>0.03</td>\n",
       "      <td>0</td>\n",
       "      <td>53.29</td>\n",
       "      <td>36.24</td>\n",
       "      <td>Bhosari</td>\n",
       "      <td>2004-09-29</td>\n",
       "      <td>Monsoon</td>\n",
       "    </tr>\n",
       "  </tbody>\n",
       "</table>\n",
       "<p>151 rows × 11 columns</p>\n",
       "</div>"
      ],
      "text/plain": [
       "       PM10    Pb    Cd    Cu    Cr  Zn    NOx    SO2     Site       Date  \\\n",
       "0    120.71  2.67  0.01  0.53  0.61   0  84.17  40.37   Mandai 2004-02-07   \n",
       "1    140.25  3.49  0.02  0.10  0.91   0  88.81  39.48   Mandai 2004-02-14   \n",
       "2    107.01  1.31  0.01  0.19  0.48   0  81.49  48.29   Mandai 2004-02-21   \n",
       "3     88.81  0.76  0.00  0.33  0.39   0  61.80  27.42   Mandai 2004-02-28   \n",
       "4     75.05  0.60  0.00  0.41  1.54   0  48.71  19.23   Mandai 2004-03-06   \n",
       "..      ...   ...   ...   ...   ...  ..    ...    ...      ...        ...   \n",
       "146   40.13  0.10  0.00  0.04  0.09   0  18.88  10.09  Bhosari 2004-09-01   \n",
       "147   40.38  0.10  0.00  0.03  0.09   0  47.56  24.14  Bhosari 2004-09-08   \n",
       "148   31.28  0.11  0.00  0.02  0.05   0  31.53  26.64  Bhosari 2004-09-15   \n",
       "149   52.10  0.48  0.00  0.04  0.06   0  42.08  22.95  Bhosari 2004-09-22   \n",
       "150   27.19  0.02  0.00  0.02  0.03   0  53.29  36.24  Bhosari 2004-09-29   \n",
       "\n",
       "      Season  \n",
       "0     Summer  \n",
       "1     Summer  \n",
       "2     Summer  \n",
       "3     Summer  \n",
       "4     Summer  \n",
       "..       ...  \n",
       "146  Monsoon  \n",
       "147  Monsoon  \n",
       "148  Monsoon  \n",
       "149  Monsoon  \n",
       "150  Monsoon  \n",
       "\n",
       "[151 rows x 11 columns]"
      ]
     },
     "execution_count": 2,
     "metadata": {},
     "output_type": "execute_result"
    }
   ],
   "source": [
    "df = pd.read_excel(r\"C:\\Users\\Suresh\\Downloads\\AirPollution.xls\")\n",
    "df"
   ]
  },
  {
   "cell_type": "code",
   "execution_count": 3,
   "id": "511f92dd",
   "metadata": {
    "scrolled": false
   },
   "outputs": [
    {
     "data": {
      "text/html": [
       "<div>\n",
       "<style scoped>\n",
       "    .dataframe tbody tr th:only-of-type {\n",
       "        vertical-align: middle;\n",
       "    }\n",
       "\n",
       "    .dataframe tbody tr th {\n",
       "        vertical-align: top;\n",
       "    }\n",
       "\n",
       "    .dataframe thead th {\n",
       "        text-align: right;\n",
       "    }\n",
       "</style>\n",
       "<table border=\"1\" class=\"dataframe\">\n",
       "  <thead>\n",
       "    <tr style=\"text-align: right;\">\n",
       "      <th></th>\n",
       "      <th>PM10</th>\n",
       "      <th>Pb</th>\n",
       "      <th>Cd</th>\n",
       "      <th>Cu</th>\n",
       "      <th>Cr</th>\n",
       "      <th>Zn</th>\n",
       "      <th>NOx</th>\n",
       "      <th>SO2</th>\n",
       "      <th>Site</th>\n",
       "      <th>Date</th>\n",
       "      <th>Season</th>\n",
       "    </tr>\n",
       "  </thead>\n",
       "  <tbody>\n",
       "    <tr>\n",
       "      <th>0</th>\n",
       "      <td>120.71</td>\n",
       "      <td>2.67</td>\n",
       "      <td>0.01</td>\n",
       "      <td>0.53</td>\n",
       "      <td>0.61</td>\n",
       "      <td>0</td>\n",
       "      <td>84.17</td>\n",
       "      <td>40.37</td>\n",
       "      <td>Mandai</td>\n",
       "      <td>2004-02-07</td>\n",
       "      <td>Summer</td>\n",
       "    </tr>\n",
       "    <tr>\n",
       "      <th>1</th>\n",
       "      <td>140.25</td>\n",
       "      <td>3.49</td>\n",
       "      <td>0.02</td>\n",
       "      <td>0.10</td>\n",
       "      <td>0.91</td>\n",
       "      <td>0</td>\n",
       "      <td>88.81</td>\n",
       "      <td>39.48</td>\n",
       "      <td>Mandai</td>\n",
       "      <td>2004-02-14</td>\n",
       "      <td>Summer</td>\n",
       "    </tr>\n",
       "    <tr>\n",
       "      <th>2</th>\n",
       "      <td>107.01</td>\n",
       "      <td>1.31</td>\n",
       "      <td>0.01</td>\n",
       "      <td>0.19</td>\n",
       "      <td>0.48</td>\n",
       "      <td>0</td>\n",
       "      <td>81.49</td>\n",
       "      <td>48.29</td>\n",
       "      <td>Mandai</td>\n",
       "      <td>2004-02-21</td>\n",
       "      <td>Summer</td>\n",
       "    </tr>\n",
       "    <tr>\n",
       "      <th>3</th>\n",
       "      <td>88.81</td>\n",
       "      <td>0.76</td>\n",
       "      <td>0.00</td>\n",
       "      <td>0.33</td>\n",
       "      <td>0.39</td>\n",
       "      <td>0</td>\n",
       "      <td>61.80</td>\n",
       "      <td>27.42</td>\n",
       "      <td>Mandai</td>\n",
       "      <td>2004-02-28</td>\n",
       "      <td>Summer</td>\n",
       "    </tr>\n",
       "    <tr>\n",
       "      <th>4</th>\n",
       "      <td>75.05</td>\n",
       "      <td>0.60</td>\n",
       "      <td>0.00</td>\n",
       "      <td>0.41</td>\n",
       "      <td>1.54</td>\n",
       "      <td>0</td>\n",
       "      <td>48.71</td>\n",
       "      <td>19.23</td>\n",
       "      <td>Mandai</td>\n",
       "      <td>2004-03-06</td>\n",
       "      <td>Summer</td>\n",
       "    </tr>\n",
       "  </tbody>\n",
       "</table>\n",
       "</div>"
      ],
      "text/plain": [
       "     PM10    Pb    Cd    Cu    Cr  Zn    NOx    SO2    Site       Date  Season\n",
       "0  120.71  2.67  0.01  0.53  0.61   0  84.17  40.37  Mandai 2004-02-07  Summer\n",
       "1  140.25  3.49  0.02  0.10  0.91   0  88.81  39.48  Mandai 2004-02-14  Summer\n",
       "2  107.01  1.31  0.01  0.19  0.48   0  81.49  48.29  Mandai 2004-02-21  Summer\n",
       "3   88.81  0.76  0.00  0.33  0.39   0  61.80  27.42  Mandai 2004-02-28  Summer\n",
       "4   75.05  0.60  0.00  0.41  1.54   0  48.71  19.23  Mandai 2004-03-06  Summer"
      ]
     },
     "execution_count": 3,
     "metadata": {},
     "output_type": "execute_result"
    }
   ],
   "source": [
    "df.head()"
   ]
  },
  {
   "cell_type": "code",
   "execution_count": 4,
   "id": "52778027",
   "metadata": {},
   "outputs": [],
   "source": [
    "df=df.drop(['Site','Date','Season','Zn','Cd'],axis=1)"
   ]
  },
  {
   "cell_type": "markdown",
   "id": "46114df9",
   "metadata": {},
   "source": [
    "### Univariate Analysis"
   ]
  },
  {
   "cell_type": "code",
   "execution_count": 5,
   "id": "5fe3acfb",
   "metadata": {
    "scrolled": false
   },
   "outputs": [
    {
     "data": {
      "text/html": [
       "<div>\n",
       "<style scoped>\n",
       "    .dataframe tbody tr th:only-of-type {\n",
       "        vertical-align: middle;\n",
       "    }\n",
       "\n",
       "    .dataframe tbody tr th {\n",
       "        vertical-align: top;\n",
       "    }\n",
       "\n",
       "    .dataframe thead th {\n",
       "        text-align: right;\n",
       "    }\n",
       "</style>\n",
       "<table border=\"1\" class=\"dataframe\">\n",
       "  <thead>\n",
       "    <tr style=\"text-align: right;\">\n",
       "      <th></th>\n",
       "      <th>PM10</th>\n",
       "      <th>Pb</th>\n",
       "      <th>Cu</th>\n",
       "      <th>Cr</th>\n",
       "      <th>NOx</th>\n",
       "      <th>SO2</th>\n",
       "    </tr>\n",
       "  </thead>\n",
       "  <tbody>\n",
       "    <tr>\n",
       "      <th>count</th>\n",
       "      <td>151.000000</td>\n",
       "      <td>151.000000</td>\n",
       "      <td>151.000000</td>\n",
       "      <td>151.000000</td>\n",
       "      <td>151.000000</td>\n",
       "      <td>151.000000</td>\n",
       "    </tr>\n",
       "    <tr>\n",
       "      <th>mean</th>\n",
       "      <td>68.536026</td>\n",
       "      <td>0.716358</td>\n",
       "      <td>0.331854</td>\n",
       "      <td>0.390066</td>\n",
       "      <td>42.692914</td>\n",
       "      <td>22.359868</td>\n",
       "    </tr>\n",
       "    <tr>\n",
       "      <th>std</th>\n",
       "      <td>40.908548</td>\n",
       "      <td>0.673069</td>\n",
       "      <td>0.408259</td>\n",
       "      <td>0.434575</td>\n",
       "      <td>23.101723</td>\n",
       "      <td>10.393498</td>\n",
       "    </tr>\n",
       "    <tr>\n",
       "      <th>min</th>\n",
       "      <td>16.240000</td>\n",
       "      <td>0.000000</td>\n",
       "      <td>0.000000</td>\n",
       "      <td>0.000000</td>\n",
       "      <td>8.260000</td>\n",
       "      <td>0.000000</td>\n",
       "    </tr>\n",
       "    <tr>\n",
       "      <th>25%</th>\n",
       "      <td>37.005000</td>\n",
       "      <td>0.220000</td>\n",
       "      <td>0.040000</td>\n",
       "      <td>0.085000</td>\n",
       "      <td>25.735000</td>\n",
       "      <td>15.165000</td>\n",
       "    </tr>\n",
       "    <tr>\n",
       "      <th>50%</th>\n",
       "      <td>59.610000</td>\n",
       "      <td>0.570000</td>\n",
       "      <td>0.130000</td>\n",
       "      <td>0.230000</td>\n",
       "      <td>37.000000</td>\n",
       "      <td>20.930000</td>\n",
       "    </tr>\n",
       "    <tr>\n",
       "      <th>75%</th>\n",
       "      <td>89.820000</td>\n",
       "      <td>0.965000</td>\n",
       "      <td>0.535000</td>\n",
       "      <td>0.580000</td>\n",
       "      <td>54.695000</td>\n",
       "      <td>27.420000</td>\n",
       "    </tr>\n",
       "    <tr>\n",
       "      <th>max</th>\n",
       "      <td>194.740000</td>\n",
       "      <td>3.490000</td>\n",
       "      <td>1.650000</td>\n",
       "      <td>3.220000</td>\n",
       "      <td>121.460000</td>\n",
       "      <td>53.270000</td>\n",
       "    </tr>\n",
       "  </tbody>\n",
       "</table>\n",
       "</div>"
      ],
      "text/plain": [
       "             PM10          Pb          Cu          Cr         NOx         SO2\n",
       "count  151.000000  151.000000  151.000000  151.000000  151.000000  151.000000\n",
       "mean    68.536026    0.716358    0.331854    0.390066   42.692914   22.359868\n",
       "std     40.908548    0.673069    0.408259    0.434575   23.101723   10.393498\n",
       "min     16.240000    0.000000    0.000000    0.000000    8.260000    0.000000\n",
       "25%     37.005000    0.220000    0.040000    0.085000   25.735000   15.165000\n",
       "50%     59.610000    0.570000    0.130000    0.230000   37.000000   20.930000\n",
       "75%     89.820000    0.965000    0.535000    0.580000   54.695000   27.420000\n",
       "max    194.740000    3.490000    1.650000    3.220000  121.460000   53.270000"
      ]
     },
     "execution_count": 5,
     "metadata": {},
     "output_type": "execute_result"
    }
   ],
   "source": [
    "df.describe()"
   ]
  },
  {
   "cell_type": "markdown",
   "id": "e2dea52e",
   "metadata": {},
   "source": [
    "###  Data Type"
   ]
  },
  {
   "cell_type": "code",
   "execution_count": 6,
   "id": "3c1c66dc",
   "metadata": {
    "scrolled": false
   },
   "outputs": [
    {
     "name": "stdout",
     "output_type": "stream",
     "text": [
      "<class 'pandas.core.frame.DataFrame'>\n",
      "RangeIndex: 151 entries, 0 to 150\n",
      "Data columns (total 6 columns):\n",
      " #   Column  Non-Null Count  Dtype  \n",
      "---  ------  --------------  -----  \n",
      " 0   PM10    151 non-null    float64\n",
      " 1   Pb      151 non-null    float64\n",
      " 2   Cu      151 non-null    float64\n",
      " 3   Cr      151 non-null    float64\n",
      " 4   NOx     151 non-null    float64\n",
      " 5   SO2     151 non-null    float64\n",
      "dtypes: float64(6)\n",
      "memory usage: 7.2 KB\n"
     ]
    }
   ],
   "source": [
    "df.info()"
   ]
  },
  {
   "cell_type": "markdown",
   "id": "09fe1f8a",
   "metadata": {},
   "source": [
    "### EDA"
   ]
  },
  {
   "cell_type": "code",
   "execution_count": 7,
   "id": "1088f8ca",
   "metadata": {
    "scrolled": false
   },
   "outputs": [
    {
     "data": {
      "text/plain": [
       "<AxesSubplot:>"
      ]
     },
     "execution_count": 7,
     "metadata": {},
     "output_type": "execute_result"
    },
    {
     "data": {
      "image/png": "[encoded data removed]",
      "text/plain": [
       "<Figure size 432x288 with 1 Axes>"
      ]
     },
     "metadata": {
      "needs_background": "light"
     },
     "output_type": "display_data"
    }
   ],
   "source": [
    "sns.boxplot(data=df)"
   ]
  },
  {
   "cell_type": "markdown",
   "id": "d4c53054",
   "metadata": {},
   "source": [
    "### Winsorizing Technique -- Treatment of Outlier"
   ]
  },
  {
   "cell_type": "code",
   "execution_count": 8,
   "id": "2e27bead",
   "metadata": {},
   "outputs": [
    {
     "data": {
      "text/plain": [
       "169.0425"
      ]
     },
     "execution_count": 8,
     "metadata": {},
     "output_type": "execute_result"
    }
   ],
   "source": [
    "q1 = df['PM10'].quantile(0.25)\n",
    "q3 = df['PM10'].quantile(0.75)\n",
    "iqr = q3-q1\n",
    "upper_limit = q3+1.5*iqr\n",
    "upper_limit"
   ]
  },
  {
   "cell_type": "code",
   "execution_count": 9,
   "id": "52980eb8",
   "metadata": {},
   "outputs": [],
   "source": [
    "df['PM10']= np.where(df['PM10'] > upper_limit,upper_limit,df['PM10'])"
   ]
  },
  {
   "cell_type": "code",
   "execution_count": 10,
   "id": "09ecf63b",
   "metadata": {
    "scrolled": false
   },
   "outputs": [
    {
     "data": {
      "text/plain": [
       "<AxesSubplot:>"
      ]
     },
     "execution_count": 10,
     "metadata": {},
     "output_type": "execute_result"
    },
    {
     "data": {
      "image/png": "[encoded data removed]",
      "text/plain": [
       "<Figure size 432x288 with 1 Axes>"
      ]
     },
     "metadata": {
      "needs_background": "light"
     },
     "output_type": "display_data"
    }
   ],
   "source": [
    "sns.boxplot(data=df)"
   ]
  },
  {
   "cell_type": "code",
   "execution_count": 11,
   "id": "cc21abc4",
   "metadata": {},
   "outputs": [
    {
     "data": {
      "text/plain": [
       "98.13499999999999"
      ]
     },
     "execution_count": 11,
     "metadata": {},
     "output_type": "execute_result"
    }
   ],
   "source": [
    "q1 = df['NOx'].quantile(0.25)\n",
    "q3 = df['NOx'].quantile(0.75)\n",
    "iqr = q3-q1\n",
    "upper_limit = q3+1.5*iqr\n",
    "upper_limit"
   ]
  },
  {
   "cell_type": "code",
   "execution_count": 12,
   "id": "1a713fad",
   "metadata": {},
   "outputs": [],
   "source": [
    "df['NOx']= np.where(df['NOx'] > upper_limit,upper_limit,df['NOx'])"
   ]
  },
  {
   "cell_type": "code",
   "execution_count": 13,
   "id": "bd852c57",
   "metadata": {
    "scrolled": true
   },
   "outputs": [
    {
     "data": {
      "text/plain": [
       "<AxesSubplot:>"
      ]
     },
     "execution_count": 13,
     "metadata": {},
     "output_type": "execute_result"
    },
    {
     "data": {
      "image/png": "[encoded data removed]",
      "text/plain": [
       "<Figure size 432x288 with 1 Axes>"
      ]
     },
     "metadata": {
      "needs_background": "light"
     },
     "output_type": "display_data"
    }
   ],
   "source": [
    "sns.boxplot(data=df)"
   ]
  },
  {
   "cell_type": "code",
   "execution_count": 14,
   "id": "8099744d",
   "metadata": {},
   "outputs": [
    {
     "data": {
      "text/plain": [
       "1.3224999999999998"
      ]
     },
     "execution_count": 14,
     "metadata": {},
     "output_type": "execute_result"
    }
   ],
   "source": [
    "q1 = df['Cr'].quantile(0.25)\n",
    "q3 = df['Cr'].quantile(0.75)\n",
    "iqr = q3-q1\n",
    "upper_limit = q3+1.5*iqr\n",
    "upper_limit"
   ]
  },
  {
   "cell_type": "code",
   "execution_count": 15,
   "id": "53162558",
   "metadata": {},
   "outputs": [],
   "source": [
    "df['Cr']= np.where(df['Cr'] > upper_limit,upper_limit,df['Cr'])"
   ]
  },
  {
   "cell_type": "code",
   "execution_count": 16,
   "id": "5912e092",
   "metadata": {
    "scrolled": true
   },
   "outputs": [
    {
     "data": {
      "text/plain": [
       "<AxesSubplot:>"
      ]
     },
     "execution_count": 16,
     "metadata": {},
     "output_type": "execute_result"
    },
    {
     "data": {
      "image/png": "[encoded data removed]",
      "text/plain": [
       "<Figure size 432x288 with 1 Axes>"
      ]
     },
     "metadata": {
      "needs_background": "light"
     },
     "output_type": "display_data"
    }
   ],
   "source": [
    "sns.boxplot(data=df)"
   ]
  },
  {
   "cell_type": "code",
   "execution_count": 17,
   "id": "b4cd3ffe",
   "metadata": {},
   "outputs": [
    {
     "data": {
      "text/plain": [
       "2.0825"
      ]
     },
     "execution_count": 17,
     "metadata": {},
     "output_type": "execute_result"
    }
   ],
   "source": [
    "q1 = df['Pb'].quantile(0.25)\n",
    "q3 = df['Pb'].quantile(0.75)\n",
    "iqr = q3-q1\n",
    "upper_limit = q3+1.5*iqr\n",
    "upper_limit"
   ]
  },
  {
   "cell_type": "code",
   "execution_count": 18,
   "id": "a7f03c2b",
   "metadata": {},
   "outputs": [],
   "source": [
    "df['Pb']= np.where(df['Pb'] > upper_limit,upper_limit,df['Pb'])"
   ]
  },
  {
   "cell_type": "code",
   "execution_count": 19,
   "id": "f1639b7c",
   "metadata": {
    "scrolled": true
   },
   "outputs": [
    {
     "data": {
      "text/plain": [
       "<AxesSubplot:>"
      ]
     },
     "execution_count": 19,
     "metadata": {},
     "output_type": "execute_result"
    },
    {
     "data": {
      "image/png": "[encoded data removed]",
      "text/plain": [
       "<Figure size 432x288 with 1 Axes>"
      ]
     },
     "metadata": {
      "needs_background": "light"
     },
     "output_type": "display_data"
    }
   ],
   "source": [
    "sns.boxplot(data=df)"
   ]
  },
  {
   "cell_type": "code",
   "execution_count": 20,
   "id": "388ea49e",
   "metadata": {},
   "outputs": [
    {
     "data": {
      "text/plain": [
       "1.2775"
      ]
     },
     "execution_count": 20,
     "metadata": {},
     "output_type": "execute_result"
    }
   ],
   "source": [
    "q1 = df['Cu'].quantile(0.25)\n",
    "q3 = df['Cu'].quantile(0.75)\n",
    "iqr = q3-q1\n",
    "upper_limit = q3+1.5*iqr\n",
    "upper_limit"
   ]
  },
  {
   "cell_type": "code",
   "execution_count": 21,
   "id": "f40ba483",
   "metadata": {},
   "outputs": [],
   "source": [
    "df['Cu']= np.where(df['Cu'] > upper_limit,upper_limit,df['Cu'])"
   ]
  },
  {
   "cell_type": "code",
   "execution_count": 22,
   "id": "daff2e83",
   "metadata": {
    "scrolled": true
   },
   "outputs": [
    {
     "data": {
      "text/plain": [
       "<AxesSubplot:>"
      ]
     },
     "execution_count": 22,
     "metadata": {},
     "output_type": "execute_result"
    },
    {
     "data": {
      "image/png": "[encoded data removed]",
      "text/plain": [
       "<Figure size 432x288 with 1 Axes>"
      ]
     },
     "metadata": {
      "needs_background": "light"
     },
     "output_type": "display_data"
    }
   ],
   "source": [
    "sns.boxplot(data=df)"
   ]
  },
  {
   "cell_type": "code",
   "execution_count": 23,
   "id": "2d500785",
   "metadata": {},
   "outputs": [
    {
     "data": {
      "text/plain": [
       "45.80250000000001"
      ]
     },
     "execution_count": 23,
     "metadata": {},
     "output_type": "execute_result"
    }
   ],
   "source": [
    "q1 = df['SO2'].quantile(0.25)\n",
    "q3 = df['SO2'].quantile(0.75)\n",
    "iqr = q3-q1\n",
    "upper_limit = q3+1.5*iqr\n",
    "upper_limit"
   ]
  },
  {
   "cell_type": "code",
   "execution_count": 24,
   "id": "fcfbffe1",
   "metadata": {},
   "outputs": [],
   "source": [
    "df['SO2']= np.where(df['SO2'] > upper_limit,upper_limit,df['SO2'])"
   ]
  },
  {
   "cell_type": "code",
   "execution_count": 25,
   "id": "f7d19e4c",
   "metadata": {
    "scrolled": true
   },
   "outputs": [
    {
     "data": {
      "text/plain": [
       "<AxesSubplot:>"
      ]
     },
     "execution_count": 25,
     "metadata": {},
     "output_type": "execute_result"
    },
    {
     "data": {
      "image/png": "[encoded data removed]",
      "text/plain": [
       "<Figure size 432x288 with 1 Axes>"
      ]
     },
     "metadata": {
      "needs_background": "light"
     },
     "output_type": "display_data"
    }
   ],
   "source": [
    "sns.boxplot(data=df)"
   ]
  },
  {
   "cell_type": "markdown",
   "id": "d8da2642",
   "metadata": {},
   "source": [
    "### Missing values"
   ]
  },
  {
   "cell_type": "code",
   "execution_count": 26,
   "id": "c71ba95d",
   "metadata": {
    "scrolled": false
   },
   "outputs": [
    {
     "data": {
      "text/plain": [
       "PM10    0\n",
       "Pb      0\n",
       "Cu      0\n",
       "Cr      0\n",
       "NOx     0\n",
       "SO2     0\n",
       "dtype: int64"
      ]
     },
     "execution_count": 26,
     "metadata": {},
     "output_type": "execute_result"
    }
   ],
   "source": [
    "df.isna().sum()"
   ]
  },
  {
   "cell_type": "markdown",
   "id": "2a171098",
   "metadata": {},
   "source": [
    "### : Splitting the data in Training and Test set\n",
    "* Using sklearn we split 70% of our data into training set and rest in test set.\n",
    "* Setting random_state will give the same training and test set everytime on running the code"
   ]
  },
  {
   "cell_type": "code",
   "execution_count": 27,
   "id": "0e5e9c4f",
   "metadata": {},
   "outputs": [],
   "source": [
    "# Putting feature variable to X\n",
    "X = df.drop('PM10', axis= 1)\n",
    "\n",
    "# Putting response variable to y\n",
    "y = df[['PM10']]\n",
    "\n",
    "#random_state is the seed used by the random number generator. It can be any integer.\n",
    "from sklearn.model_selection import train_test_split\n",
    "X_train, X_test, y_train, y_test =train_test_split(X, y, train_size=0.7 ,random_state=123)"
   ]
  },
  {
   "cell_type": "markdown",
   "id": "4ffb4d05",
   "metadata": {},
   "source": [
    "### Correlation Matrix"
   ]
  },
  {
   "cell_type": "code",
   "execution_count": 28,
   "id": "db58d741",
   "metadata": {
    "scrolled": false
   },
   "outputs": [
    {
     "data": {
      "text/html": [
       "<div>\n",
       "<style scoped>\n",
       "    .dataframe tbody tr th:only-of-type {\n",
       "        vertical-align: middle;\n",
       "    }\n",
       "\n",
       "    .dataframe tbody tr th {\n",
       "        vertical-align: top;\n",
       "    }\n",
       "\n",
       "    .dataframe thead th {\n",
       "        text-align: right;\n",
       "    }\n",
       "</style>\n",
       "<table border=\"1\" class=\"dataframe\">\n",
       "  <thead>\n",
       "    <tr style=\"text-align: right;\">\n",
       "      <th></th>\n",
       "      <th>PM10</th>\n",
       "      <th>Pb</th>\n",
       "      <th>Cu</th>\n",
       "      <th>Cr</th>\n",
       "      <th>NOx</th>\n",
       "      <th>SO2</th>\n",
       "    </tr>\n",
       "  </thead>\n",
       "  <tbody>\n",
       "    <tr>\n",
       "      <th>117</th>\n",
       "      <td>29.97</td>\n",
       "      <td>0.08</td>\n",
       "      <td>0.01</td>\n",
       "      <td>0.02</td>\n",
       "      <td>24.08</td>\n",
       "      <td>16.65</td>\n",
       "    </tr>\n",
       "    <tr>\n",
       "      <th>46</th>\n",
       "      <td>56.78</td>\n",
       "      <td>0.40</td>\n",
       "      <td>0.19</td>\n",
       "      <td>0.44</td>\n",
       "      <td>38.92</td>\n",
       "      <td>25.27</td>\n",
       "    </tr>\n",
       "    <tr>\n",
       "      <th>146</th>\n",
       "      <td>40.13</td>\n",
       "      <td>0.10</td>\n",
       "      <td>0.04</td>\n",
       "      <td>0.09</td>\n",
       "      <td>18.88</td>\n",
       "      <td>10.09</td>\n",
       "    </tr>\n",
       "    <tr>\n",
       "      <th>112</th>\n",
       "      <td>50.11</td>\n",
       "      <td>0.21</td>\n",
       "      <td>0.00</td>\n",
       "      <td>0.00</td>\n",
       "      <td>54.71</td>\n",
       "      <td>29.04</td>\n",
       "    </tr>\n",
       "    <tr>\n",
       "      <th>135</th>\n",
       "      <td>50.14</td>\n",
       "      <td>0.44</td>\n",
       "      <td>0.00</td>\n",
       "      <td>0.10</td>\n",
       "      <td>10.24</td>\n",
       "      <td>22.67</td>\n",
       "    </tr>\n",
       "  </tbody>\n",
       "</table>\n",
       "</div>"
      ],
      "text/plain": [
       "      PM10    Pb    Cu    Cr    NOx    SO2\n",
       "117  29.97  0.08  0.01  0.02  24.08  16.65\n",
       "46   56.78  0.40  0.19  0.44  38.92  25.27\n",
       "146  40.13  0.10  0.04  0.09  18.88  10.09\n",
       "112  50.11  0.21  0.00  0.00  54.71  29.04\n",
       "135  50.14  0.44  0.00  0.10  10.24  22.67"
      ]
     },
     "execution_count": 28,
     "metadata": {},
     "output_type": "execute_result"
    }
   ],
   "source": [
    "df = pd.concat([y_train, X_train], axis=1)\n",
    "df.head()"
   ]
  },
  {
   "cell_type": "markdown",
   "id": "e45f18cc",
   "metadata": {
    "scrolled": false
   },
   "source": [
    "# df.corr()"
   ]
  },
  {
   "cell_type": "code",
   "execution_count": 29,
   "id": "3a8d00d3",
   "metadata": {
    "scrolled": true
   },
   "outputs": [
    {
     "data": {
      "text/plain": [
       "<AxesSubplot:>"
      ]
     },
     "execution_count": 29,
     "metadata": {},
     "output_type": "execute_result"
    },
    {
     "data": {
      "image/png": "[encoded data removed]",
      "text/plain": [
       "<Figure size 432x288 with 2 Axes>"
      ]
     },
     "metadata": {
      "needs_background": "light"
     },
     "output_type": "display_data"
    }
   ],
   "source": [
    "sns.heatmap(df.corr(),annot=True)"
   ]
  },
  {
   "cell_type": "code",
   "execution_count": 30,
   "id": "e138ef41",
   "metadata": {
    "scrolled": true
   },
   "outputs": [
    {
     "data": {
      "text/plain": [
       "Pb      8.803705\n",
       "Cu      4.952885\n",
       "Cr      8.320764\n",
       "NOx    20.311086\n",
       "SO2    17.024029\n",
       "dtype: float64"
      ]
     },
     "execution_count": 30,
     "metadata": {},
     "output_type": "execute_result"
    }
   ],
   "source": [
    "X1=df.drop(['PM10',],axis=1 \n",
    "series_before = pd.Series([variance_inflation_factor(X1.values, i) \n",
    "                           for i in range(X1.shape[1])],  # i=0,1,2\n",
    "                          index=X1.columns)  # column name\n",
    "series_before"
   ]
  },
  {
   "cell_type": "markdown",
   "id": "8856a9c5",
   "metadata": {},
   "source": [
    "Multicolinearity (with the help of VIF)"
   ]
  },
  {
   "cell_type": "code",
   "execution_count": 31,
   "id": "9894bdb3",
   "metadata": {
    "scrolled": true
   },
   "outputs": [
    {
     "data": {
      "text/plain": [
       "Pb     7.690493\n",
       "Cu     4.863673\n",
       "Cr     8.106525\n",
       "SO2    4.009061\n",
       "dtype: float64"
      ]
     },
     "execution_count": 31,
     "metadata": {},
     "output_type": "execute_result"
    }
   ],
   "source": [
    "X1=df.drop(['PM10','NOx'],axis=1)\n",
    "series_before = pd.Series([variance_inflation_factor(X1.values, i) \n",
    "                           for i in range(X1.shape[1])],  # i=0,1,2\n",
    "                          index=X1.columns)  # column name\n",
    "series_before"
   ]
  },
  {
   "cell_type": "markdown",
   "id": "fd07dbd6",
   "metadata": {},
   "source": [
    "### Model Building¶\n",
    "H0 :- There is no Linear relationship between PM10 and Pb , Cu & SO2\n",
    "\n",
    "Vs\n",
    "\n",
    "H1 :- There is Linear relationship between PM10 and Pb , Cu & SO2\n",
    "\n",
    "Alpha = 0.05 (5%)\n",
    "\n"
   ]
  },
  {
   "cell_type": "code",
   "execution_count": 32,
   "id": "c193ce05",
   "metadata": {
    "scrolled": true
   },
   "outputs": [
    {
     "data": {
      "text/html": [
       "<table class=\"simpletable\">\n",
       "<caption>OLS Regression Results</caption>\n",
       "<tr>\n",
       "  <th>Dep. Variable:</th>          <td>PM10</td>       <th>  R-squared:         </th> <td>   0.817</td>\n",
       "</tr>\n",
       "<tr>\n",
       "  <th>Model:</th>                   <td>OLS</td>       <th>  Adj. R-squared:    </th> <td>   0.810</td>\n",
       "</tr>\n",
       "<tr>\n",
       "  <th>Method:</th>             <td>Least Squares</td>  <th>  F-statistic:       </th> <td>   111.8</td>\n",
       "</tr>\n",
       "<tr>\n",
       "  <th>Date:</th>             <td>Sat, 05 Nov 2022</td> <th>  Prob (F-statistic):</th> <td>5.19e-36</td>\n",
       "</tr>\n",
       "<tr>\n",
       "  <th>Time:</th>                 <td>13:15:18</td>     <th>  Log-Likelihood:    </th> <td> -444.35</td>\n",
       "</tr>\n",
       "<tr>\n",
       "  <th>No. Observations:</th>      <td>   105</td>      <th>  AIC:               </th> <td>   898.7</td>\n",
       "</tr>\n",
       "<tr>\n",
       "  <th>Df Residuals:</th>          <td>   100</td>      <th>  BIC:               </th> <td>   912.0</td>\n",
       "</tr>\n",
       "<tr>\n",
       "  <th>Df Model:</th>              <td>     4</td>      <th>                     </th>     <td> </td>   \n",
       "</tr>\n",
       "<tr>\n",
       "  <th>Covariance Type:</th>      <td>nonrobust</td>    <th>                     </th>     <td> </td>   \n",
       "</tr>\n",
       "</table>\n",
       "<table class=\"simpletable\">\n",
       "<tr>\n",
       "      <td></td>         <th>coef</th>     <th>std err</th>      <th>t</th>      <th>P>|t|</th>  <th>[0.025</th>    <th>0.975]</th>  \n",
       "</tr>\n",
       "<tr>\n",
       "  <th>Intercept</th> <td>   24.0939</td> <td>    3.950</td> <td>    6.100</td> <td> 0.000</td> <td>   16.258</td> <td>   31.930</td>\n",
       "</tr>\n",
       "<tr>\n",
       "  <th>Pb</th>        <td>   34.4908</td> <td>    5.185</td> <td>    6.652</td> <td> 0.000</td> <td>   24.204</td> <td>   44.777</td>\n",
       "</tr>\n",
       "<tr>\n",
       "  <th>Cu</th>        <td>   10.2375</td> <td>    7.045</td> <td>    1.453</td> <td> 0.149</td> <td>   -3.739</td> <td>   24.215</td>\n",
       "</tr>\n",
       "<tr>\n",
       "  <th>Cr</th>        <td>   37.7779</td> <td>    9.330</td> <td>    4.049</td> <td> 0.000</td> <td>   19.267</td> <td>   56.289</td>\n",
       "</tr>\n",
       "<tr>\n",
       "  <th>SO2</th>       <td>    0.0674</td> <td>    0.206</td> <td>    0.327</td> <td> 0.745</td> <td>   -0.342</td> <td>    0.476</td>\n",
       "</tr>\n",
       "</table>\n",
       "<table class=\"simpletable\">\n",
       "<tr>\n",
       "  <th>Omnibus:</th>       <td>11.888</td> <th>  Durbin-Watson:     </th> <td>   1.911</td>\n",
       "</tr>\n",
       "<tr>\n",
       "  <th>Prob(Omnibus):</th> <td> 0.003</td> <th>  Jarque-Bera (JB):  </th> <td>  14.494</td>\n",
       "</tr>\n",
       "<tr>\n",
       "  <th>Skew:</th>          <td> 0.620</td> <th>  Prob(JB):          </th> <td>0.000712</td>\n",
       "</tr>\n",
       "<tr>\n",
       "  <th>Kurtosis:</th>      <td> 4.333</td> <th>  Cond. No.          </th> <td>    157.</td>\n",
       "</tr>\n",
       "</table><br/><br/>Notes:<br/>[1] Standard Errors assume that the covariance matrix of the errors is correctly specified."
      ],
      "text/plain": [
       "<class 'statsmodels.iolib.summary.Summary'>\n",
       "\"\"\"\n",
       "                            OLS Regression Results                            \n",
       "==============================================================================\n",
       "Dep. Variable:                   PM10   R-squared:                       0.817\n",
       "Model:                            OLS   Adj. R-squared:                  0.810\n",
       "Method:                 Least Squares   F-statistic:                     111.8\n",
       "Date:                Sat, 05 Nov 2022   Prob (F-statistic):           5.19e-36\n",
       "Time:                        13:15:18   Log-Likelihood:                -444.35\n",
       "No. Observations:                 105   AIC:                             898.7\n",
       "Df Residuals:                     100   BIC:                             912.0\n",
       "Df Model:                           4                                         \n",
       "Covariance Type:            nonrobust                                         \n",
       "==============================================================================\n",
       "                 coef    std err          t      P>|t|      [0.025      0.975]\n",
       "------------------------------------------------------------------------------\n",
       "Intercept     24.0939      3.950      6.100      0.000      16.258      31.930\n",
       "Pb            34.4908      5.185      6.652      0.000      24.204      44.777\n",
       "Cu            10.2375      7.045      1.453      0.149      -3.739      24.215\n",
       "Cr            37.7779      9.330      4.049      0.000      19.267      56.289\n",
       "SO2            0.0674      0.206      0.327      0.745      -0.342       0.476\n",
       "==============================================================================\n",
       "Omnibus:                       11.888   Durbin-Watson:                   1.911\n",
       "Prob(Omnibus):                  0.003   Jarque-Bera (JB):               14.494\n",
       "Skew:                           0.620   Prob(JB):                     0.000712\n",
       "Kurtosis:                       4.333   Cond. No.                         157.\n",
       "==============================================================================\n",
       "\n",
       "Notes:\n",
       "[1] Standard Errors assume that the covariance matrix of the errors is correctly specified.\n",
       "\"\"\""
      ]
     },
     "execution_count": 32,
     "metadata": {},
     "output_type": "execute_result"
    }
   ],
   "source": [
    "import statsmodels.formula.api as smf\n",
    "model2 = smf.ols('PM10 ~ Pb + Cu + Cr + SO2',data=df).fit()\n",
    "model2.summary()"
   ]
  },
  {
   "cell_type": "code",
   "execution_count": 33,
   "id": "80cd298c",
   "metadata": {
    "scrolled": true
   },
   "outputs": [
    {
     "data": {
      "text/html": [
       "<table class=\"simpletable\">\n",
       "<caption>OLS Regression Results</caption>\n",
       "<tr>\n",
       "  <th>Dep. Variable:</th>          <td>PM10</td>       <th>  R-squared:         </th> <td>   0.813</td>\n",
       "</tr>\n",
       "<tr>\n",
       "  <th>Model:</th>                   <td>OLS</td>       <th>  Adj. R-squared:    </th> <td>   0.808</td>\n",
       "</tr>\n",
       "<tr>\n",
       "  <th>Method:</th>             <td>Least Squares</td>  <th>  F-statistic:       </th> <td>   146.7</td>\n",
       "</tr>\n",
       "<tr>\n",
       "  <th>Date:</th>             <td>Sat, 05 Nov 2022</td> <th>  Prob (F-statistic):</th> <td>1.11e-36</td>\n",
       "</tr>\n",
       "<tr>\n",
       "  <th>Time:</th>                 <td>13:15:18</td>     <th>  Log-Likelihood:    </th> <td> -445.44</td>\n",
       "</tr>\n",
       "<tr>\n",
       "  <th>No. Observations:</th>      <td>   105</td>      <th>  AIC:               </th> <td>   898.9</td>\n",
       "</tr>\n",
       "<tr>\n",
       "  <th>Df Residuals:</th>          <td>   101</td>      <th>  BIC:               </th> <td>   909.5</td>\n",
       "</tr>\n",
       "<tr>\n",
       "  <th>Df Model:</th>              <td>     3</td>      <th>                     </th>     <td> </td>   \n",
       "</tr>\n",
       "<tr>\n",
       "  <th>Covariance Type:</th>      <td>nonrobust</td>    <th>                     </th>     <td> </td>   \n",
       "</tr>\n",
       "</table>\n",
       "<table class=\"simpletable\">\n",
       "<tr>\n",
       "      <td></td>         <th>coef</th>     <th>std err</th>      <th>t</th>      <th>P>|t|</th>  <th>[0.025</th>    <th>0.975]</th>  \n",
       "</tr>\n",
       "<tr>\n",
       "  <th>Intercept</th> <td>   23.6156</td> <td>    3.957</td> <td>    5.967</td> <td> 0.000</td> <td>   15.765</td> <td>   31.466</td>\n",
       "</tr>\n",
       "<tr>\n",
       "  <th>Pb</th>        <td>   35.4394</td> <td>    5.172</td> <td>    6.853</td> <td> 0.000</td> <td>   25.180</td> <td>   45.699</td>\n",
       "</tr>\n",
       "<tr>\n",
       "  <th>Cr</th>        <td>   45.6740</td> <td>    7.627</td> <td>    5.989</td> <td> 0.000</td> <td>   30.545</td> <td>   60.803</td>\n",
       "</tr>\n",
       "<tr>\n",
       "  <th>SO2</th>       <td>    0.0840</td> <td>    0.207</td> <td>    0.406</td> <td> 0.686</td> <td>   -0.327</td> <td>    0.495</td>\n",
       "</tr>\n",
       "</table>\n",
       "<table class=\"simpletable\">\n",
       "<tr>\n",
       "  <th>Omnibus:</th>       <td>17.795</td> <th>  Durbin-Watson:     </th> <td>   1.970</td>\n",
       "</tr>\n",
       "<tr>\n",
       "  <th>Prob(Omnibus):</th> <td> 0.000</td> <th>  Jarque-Bera (JB):  </th> <td>  30.979</td>\n",
       "</tr>\n",
       "<tr>\n",
       "  <th>Skew:</th>          <td> 0.711</td> <th>  Prob(JB):          </th> <td>1.88e-07</td>\n",
       "</tr>\n",
       "<tr>\n",
       "  <th>Kurtosis:</th>      <td> 5.249</td> <th>  Cond. No.          </th> <td>    125.</td>\n",
       "</tr>\n",
       "</table><br/><br/>Notes:<br/>[1] Standard Errors assume that the covariance matrix of the errors is correctly specified."
      ],
      "text/plain": [
       "<class 'statsmodels.iolib.summary.Summary'>\n",
       "\"\"\"\n",
       "                            OLS Regression Results                            \n",
       "==============================================================================\n",
       "Dep. Variable:                   PM10   R-squared:                       0.813\n",
       "Model:                            OLS   Adj. R-squared:                  0.808\n",
       "Method:                 Least Squares   F-statistic:                     146.7\n",
       "Date:                Sat, 05 Nov 2022   Prob (F-statistic):           1.11e-36\n",
       "Time:                        13:15:18   Log-Likelihood:                -445.44\n",
       "No. Observations:                 105   AIC:                             898.9\n",
       "Df Residuals:                     101   BIC:                             909.5\n",
       "Df Model:                           3                                         \n",
       "Covariance Type:            nonrobust                                         \n",
       "==============================================================================\n",
       "                 coef    std err          t      P>|t|      [0.025      0.975]\n",
       "------------------------------------------------------------------------------\n",
       "Intercept     23.6156      3.957      5.967      0.000      15.765      31.466\n",
       "Pb            35.4394      5.172      6.853      0.000      25.180      45.699\n",
       "Cr            45.6740      7.627      5.989      0.000      30.545      60.803\n",
       "SO2            0.0840      0.207      0.406      0.686      -0.327       0.495\n",
       "==============================================================================\n",
       "Omnibus:                       17.795   Durbin-Watson:                   1.970\n",
       "Prob(Omnibus):                  0.000   Jarque-Bera (JB):               30.979\n",
       "Skew:                           0.711   Prob(JB):                     1.88e-07\n",
       "Kurtosis:                       5.249   Cond. No.                         125.\n",
       "==============================================================================\n",
       "\n",
       "Notes:\n",
       "[1] Standard Errors assume that the covariance matrix of the errors is correctly specified.\n",
       "\"\"\""
      ]
     },
     "execution_count": 33,
     "metadata": {},
     "output_type": "execute_result"
    }
   ],
   "source": [
    "import statsmodels.formula.api as smf\n",
    "model2 = smf.ols('PM10 ~ Pb + Cr + SO2',data=df).fit()\n",
    "model2.summary()"
   ]
  },
  {
   "cell_type": "code",
   "execution_count": 34,
   "id": "646539ee",
   "metadata": {
    "scrolled": false
   },
   "outputs": [
    {
     "data": {
      "text/html": [
       "<table class=\"simpletable\">\n",
       "<caption>OLS Regression Results</caption>\n",
       "<tr>\n",
       "  <th>Dep. Variable:</th>          <td>PM10</td>       <th>  R-squared:         </th> <td>   0.813</td>\n",
       "</tr>\n",
       "<tr>\n",
       "  <th>Model:</th>                   <td>OLS</td>       <th>  Adj. R-squared:    </th> <td>   0.809</td>\n",
       "</tr>\n",
       "<tr>\n",
       "  <th>Method:</th>             <td>Least Squares</td>  <th>  F-statistic:       </th> <td>   221.8</td>\n",
       "</tr>\n",
       "<tr>\n",
       "  <th>Date:</th>             <td>Sat, 05 Nov 2022</td> <th>  Prob (F-statistic):</th> <td>7.15e-38</td>\n",
       "</tr>\n",
       "<tr>\n",
       "  <th>Time:</th>                 <td>13:15:18</td>     <th>  Log-Likelihood:    </th> <td> -445.53</td>\n",
       "</tr>\n",
       "<tr>\n",
       "  <th>No. Observations:</th>      <td>   105</td>      <th>  AIC:               </th> <td>   897.1</td>\n",
       "</tr>\n",
       "<tr>\n",
       "  <th>Df Residuals:</th>          <td>   102</td>      <th>  BIC:               </th> <td>   905.0</td>\n",
       "</tr>\n",
       "<tr>\n",
       "  <th>Df Model:</th>              <td>     2</td>      <th>                     </th>     <td> </td>   \n",
       "</tr>\n",
       "<tr>\n",
       "  <th>Covariance Type:</th>      <td>nonrobust</td>    <th>                     </th>     <td> </td>   \n",
       "</tr>\n",
       "</table>\n",
       "<table class=\"simpletable\">\n",
       "<tr>\n",
       "      <td></td>         <th>coef</th>     <th>std err</th>      <th>t</th>      <th>P>|t|</th>  <th>[0.025</th>    <th>0.975]</th>  \n",
       "</tr>\n",
       "<tr>\n",
       "  <th>Intercept</th> <td>   24.8155</td> <td>    2.617</td> <td>    9.482</td> <td> 0.000</td> <td>   19.624</td> <td>   30.006</td>\n",
       "</tr>\n",
       "<tr>\n",
       "  <th>Pb</th>        <td>   36.2273</td> <td>    4.773</td> <td>    7.590</td> <td> 0.000</td> <td>   26.760</td> <td>   45.695</td>\n",
       "</tr>\n",
       "<tr>\n",
       "  <th>Cr</th>        <td>   45.9909</td> <td>    7.555</td> <td>    6.087</td> <td> 0.000</td> <td>   31.005</td> <td>   60.977</td>\n",
       "</tr>\n",
       "</table>\n",
       "<table class=\"simpletable\">\n",
       "<tr>\n",
       "  <th>Omnibus:</th>       <td>16.878</td> <th>  Durbin-Watson:     </th> <td>   1.947</td>\n",
       "</tr>\n",
       "<tr>\n",
       "  <th>Prob(Omnibus):</th> <td> 0.000</td> <th>  Jarque-Bera (JB):  </th> <td>  30.141</td>\n",
       "</tr>\n",
       "<tr>\n",
       "  <th>Skew:</th>          <td> 0.661</td> <th>  Prob(JB):          </th> <td>2.85e-07</td>\n",
       "</tr>\n",
       "<tr>\n",
       "  <th>Kurtosis:</th>      <td> 5.267</td> <th>  Cond. No.          </th> <td>    6.85</td>\n",
       "</tr>\n",
       "</table><br/><br/>Notes:<br/>[1] Standard Errors assume that the covariance matrix of the errors is correctly specified."
      ],
      "text/plain": [
       "<class 'statsmodels.iolib.summary.Summary'>\n",
       "\"\"\"\n",
       "                            OLS Regression Results                            \n",
       "==============================================================================\n",
       "Dep. Variable:                   PM10   R-squared:                       0.813\n",
       "Model:                            OLS   Adj. R-squared:                  0.809\n",
       "Method:                 Least Squares   F-statistic:                     221.8\n",
       "Date:                Sat, 05 Nov 2022   Prob (F-statistic):           7.15e-38\n",
       "Time:                        13:15:18   Log-Likelihood:                -445.53\n",
       "No. Observations:                 105   AIC:                             897.1\n",
       "Df Residuals:                     102   BIC:                             905.0\n",
       "Df Model:                           2                                         \n",
       "Covariance Type:            nonrobust                                         \n",
       "==============================================================================\n",
       "                 coef    std err          t      P>|t|      [0.025      0.975]\n",
       "------------------------------------------------------------------------------\n",
       "Intercept     24.8155      2.617      9.482      0.000      19.624      30.006\n",
       "Pb            36.2273      4.773      7.590      0.000      26.760      45.695\n",
       "Cr            45.9909      7.555      6.087      0.000      31.005      60.977\n",
       "==============================================================================\n",
       "Omnibus:                       16.878   Durbin-Watson:                   1.947\n",
       "Prob(Omnibus):                  0.000   Jarque-Bera (JB):               30.141\n",
       "Skew:                           0.661   Prob(JB):                     2.85e-07\n",
       "Kurtosis:                       5.267   Cond. No.                         6.85\n",
       "==============================================================================\n",
       "\n",
       "Notes:\n",
       "[1] Standard Errors assume that the covariance matrix of the errors is correctly specified.\n",
       "\"\"\""
      ]
     },
     "execution_count": 34,
     "metadata": {},
     "output_type": "execute_result"
    }
   ],
   "source": [
    "import statsmodels.formula.api as smf\n",
    "model2 = smf.ols('PM10 ~ Pb + Cr',data=df).fit()\n",
    "model2.summary()"
   ]
  },
  {
   "cell_type": "markdown",
   "id": "fa066e77",
   "metadata": {},
   "source": [
    "Notes:\n",
    "[1] Standard Errors assume that the covariance matrix of the errors is correctly specified.\n",
    "There is Linear relationship between PM10 and Pb , Cu & SO2\n",
    "\n",
    "81% is accuracy of model , so we say model is good fit"
   ]
  },
  {
   "cell_type": "markdown",
   "id": "09697e8a",
   "metadata": {},
   "source": [
    "### Multicolinearity (with the help of VIF)"
   ]
  },
  {
   "cell_type": "code",
   "execution_count": 35,
   "id": "b4ed2f7e",
   "metadata": {
    "scrolled": false
   },
   "outputs": [
    {
     "data": {
      "text/html": [
       "<div>\n",
       "<style scoped>\n",
       "    .dataframe tbody tr th:only-of-type {\n",
       "        vertical-align: middle;\n",
       "    }\n",
       "\n",
       "    .dataframe tbody tr th {\n",
       "        vertical-align: top;\n",
       "    }\n",
       "\n",
       "    .dataframe thead th {\n",
       "        text-align: right;\n",
       "    }\n",
       "</style>\n",
       "<table border=\"1\" class=\"dataframe\">\n",
       "  <thead>\n",
       "    <tr style=\"text-align: right;\">\n",
       "      <th></th>\n",
       "      <th>PM10</th>\n",
       "      <th>Pb</th>\n",
       "      <th>Cu</th>\n",
       "      <th>Cr</th>\n",
       "      <th>NOx</th>\n",
       "      <th>SO2</th>\n",
       "      <th>fitted_value</th>\n",
       "      <th>residual</th>\n",
       "    </tr>\n",
       "  </thead>\n",
       "  <tbody>\n",
       "    <tr>\n",
       "      <th>117</th>\n",
       "      <td>29.97</td>\n",
       "      <td>0.08</td>\n",
       "      <td>0.01</td>\n",
       "      <td>0.02</td>\n",
       "      <td>24.08</td>\n",
       "      <td>16.65</td>\n",
       "      <td>28.633484</td>\n",
       "      <td>1.336516</td>\n",
       "    </tr>\n",
       "    <tr>\n",
       "      <th>46</th>\n",
       "      <td>56.78</td>\n",
       "      <td>0.40</td>\n",
       "      <td>0.19</td>\n",
       "      <td>0.44</td>\n",
       "      <td>38.92</td>\n",
       "      <td>25.27</td>\n",
       "      <td>59.542403</td>\n",
       "      <td>-2.762403</td>\n",
       "    </tr>\n",
       "    <tr>\n",
       "      <th>146</th>\n",
       "      <td>40.13</td>\n",
       "      <td>0.10</td>\n",
       "      <td>0.04</td>\n",
       "      <td>0.09</td>\n",
       "      <td>18.88</td>\n",
       "      <td>10.09</td>\n",
       "      <td>32.577394</td>\n",
       "      <td>7.552606</td>\n",
       "    </tr>\n",
       "    <tr>\n",
       "      <th>112</th>\n",
       "      <td>50.11</td>\n",
       "      <td>0.21</td>\n",
       "      <td>0.00</td>\n",
       "      <td>0.00</td>\n",
       "      <td>54.71</td>\n",
       "      <td>29.04</td>\n",
       "      <td>32.423210</td>\n",
       "      <td>17.686790</td>\n",
       "    </tr>\n",
       "    <tr>\n",
       "      <th>135</th>\n",
       "      <td>50.14</td>\n",
       "      <td>0.44</td>\n",
       "      <td>0.00</td>\n",
       "      <td>0.10</td>\n",
       "      <td>10.24</td>\n",
       "      <td>22.67</td>\n",
       "      <td>45.354576</td>\n",
       "      <td>4.785424</td>\n",
       "    </tr>\n",
       "  </tbody>\n",
       "</table>\n",
       "</div>"
      ],
      "text/plain": [
       "      PM10    Pb    Cu    Cr    NOx    SO2  fitted_value   residual\n",
       "117  29.97  0.08  0.01  0.02  24.08  16.65     28.633484   1.336516\n",
       "46   56.78  0.40  0.19  0.44  38.92  25.27     59.542403  -2.762403\n",
       "146  40.13  0.10  0.04  0.09  18.88  10.09     32.577394   7.552606\n",
       "112  50.11  0.21  0.00  0.00  54.71  29.04     32.423210  17.686790\n",
       "135  50.14  0.44  0.00  0.10  10.24  22.67     45.354576   4.785424"
      ]
     },
     "execution_count": 35,
     "metadata": {},
     "output_type": "execute_result"
    }
   ],
   "source": [
    "df['fitted_value']=model2.fittedvalues #Predicted Value\n",
    "df['residual']=model2.resid  #Error\n",
    "df.head()"
   ]
  },
  {
   "cell_type": "markdown",
   "id": "31817cba",
   "metadata": {},
   "source": [
    "### Assumption of Model\n",
    "Linearity\n",
    "Normality\n",
    "Homoscedasicity\n",
    "Model Error has to be independently identificaly Distibuted"
   ]
  },
  {
   "cell_type": "markdown",
   "id": "316cabcd",
   "metadata": {},
   "source": [
    "### Linearity"
   ]
  },
  {
   "cell_type": "code",
   "execution_count": 36,
   "id": "909e3745",
   "metadata": {
    "scrolled": true
   },
   "outputs": [
    {
     "data": {
      "text/plain": [
       "<AxesSubplot:xlabel='Pb', ylabel='PM10'>"
      ]
     },
     "execution_count": 36,
     "metadata": {},
     "output_type": "execute_result"
    },
    {
     "data": {
      "image/png": "[encoded data removed]",
      "text/plain": [
       "<Figure size 432x288 with 1 Axes>"
      ]
     },
     "metadata": {
      "needs_background": "light"
     },
     "output_type": "display_data"
    }
   ],
   "source": [
    "df.plot.scatter(x='Pb',y=\"PM10\")"
   ]
  },
  {
   "cell_type": "markdown",
   "id": "832aab69",
   "metadata": {},
   "source": [
    "# Homoscedasicity"
   ]
  },
  {
   "cell_type": "code",
   "execution_count": 37,
   "id": "de48b0ef",
   "metadata": {
    "scrolled": true
   },
   "outputs": [
    {
     "data": {
      "text/plain": [
       "<AxesSubplot:xlabel='fitted_value', ylabel='residual'>"
      ]
     },
     "execution_count": 37,
     "metadata": {},
     "output_type": "execute_result"
    },
    {
     "data": {
      "image/png": "[encoded data removed]",
      "text/plain": [
       "<Figure size 432x288 with 1 Axes>"
      ]
     },
     "metadata": {
      "needs_background": "light"
     },
     "output_type": "display_data"
    }
   ],
   "source": [
    "sns.scatterplot(x='fitted_value', y='residual',data=df)"
   ]
  },
  {
   "cell_type": "markdown",
   "id": "75d57f41",
   "metadata": {},
   "source": [
    "TV have 81% strong positve correlation with Sales\n",
    "TV have high impact on Sales\n",
    "There is no colinearity in data, So every platform is independent"
   ]
  },
  {
   "cell_type": "code",
   "execution_count": null,
   "id": "59fcbdb7",
   "metadata": {},
   "outputs": [],
   "source": []
  },
  {
   "cell_type": "markdown",
   "id": "1ca83f30",
   "metadata": {},
   "source": [
    "###  Normality"
   ]
  },
  {
   "cell_type": "markdown",
   "id": "3b080ac0",
   "metadata": {},
   "source": [
    "#### import statsmodels.api as sm\n",
    "fig = sm.qqplot(df['residual'], fit=True, line='s') # s indicate standardized line\n",
    "plt.show()"
   ]
  },
  {
   "cell_type": "code",
   "execution_count": null,
   "id": "5c074f69",
   "metadata": {},
   "outputs": [],
   "source": []
  },
  {
   "cell_type": "code",
   "execution_count": 39,
   "id": "ba26881e",
   "metadata": {
    "scrolled": false
   },
   "outputs": [
    {
     "data": {
      "text/plain": [
       "<AxesSubplot:>"
      ]
     },
     "execution_count": 39,
     "metadata": {},
     "output_type": "execute_result"
    },
    {
     "data": {
      "image/png": "[encoded data removed]",
      "text/plain": [
       "<Figure size 432x288 with 1 Axes>"
      ]
     },
     "metadata": {
      "needs_background": "light"
     },
     "output_type": "display_data"
    }
   ],
   "source": [
    "sns.histplot(df='residual')"
   ]
  },
  {
   "cell_type": "markdown",
   "id": "683f70f4",
   "metadata": {},
   "source": [
    "# Model Error are IID \n"
   ]
  },
  {
   "cell_type": "code",
   "execution_count": 40,
   "id": "9ff3558a",
   "metadata": {
    "scrolled": true
   },
   "outputs": [
    {
     "data": {
      "text/plain": [
       "<AxesSubplot:ylabel='Frequency'>"
      ]
     },
     "execution_count": 40,
     "metadata": {},
     "output_type": "execute_result"
    },
    {
     "data": {
      "image/png": "[encoded data removed]",
      "text/plain": [
       "<Figure size 432x288 with 1 Axes>"
      ]
     },
     "metadata": {
      "needs_background": "light"
     },
     "output_type": "display_data"
    }
   ],
   "source": [
    "df['residual'].plot.hist()"
   ]
  },
  {
   "cell_type": "code",
   "execution_count": 41,
   "id": "3bfc0269",
   "metadata": {
    "scrolled": true
   },
   "outputs": [
    {
     "data": {
      "text/html": [
       "<div>\n",
       "<style scoped>\n",
       "    .dataframe tbody tr th:only-of-type {\n",
       "        vertical-align: middle;\n",
       "    }\n",
       "\n",
       "    .dataframe tbody tr th {\n",
       "        vertical-align: top;\n",
       "    }\n",
       "\n",
       "    .dataframe thead th {\n",
       "        text-align: right;\n",
       "    }\n",
       "</style>\n",
       "<table border=\"1\" class=\"dataframe\">\n",
       "  <thead>\n",
       "    <tr style=\"text-align: right;\">\n",
       "      <th></th>\n",
       "      <th>Pb</th>\n",
       "      <th>Cu</th>\n",
       "      <th>Cr</th>\n",
       "      <th>NOx</th>\n",
       "      <th>SO2</th>\n",
       "      <th>PM10</th>\n",
       "    </tr>\n",
       "  </thead>\n",
       "  <tbody>\n",
       "    <tr>\n",
       "      <th>41</th>\n",
       "      <td>0.61</td>\n",
       "      <td>0.54</td>\n",
       "      <td>0.69</td>\n",
       "      <td>17.07</td>\n",
       "      <td>13.16</td>\n",
       "      <td>74.60</td>\n",
       "    </tr>\n",
       "    <tr>\n",
       "      <th>91</th>\n",
       "      <td>0.55</td>\n",
       "      <td>0.06</td>\n",
       "      <td>0.42</td>\n",
       "      <td>17.52</td>\n",
       "      <td>11.75</td>\n",
       "      <td>65.20</td>\n",
       "    </tr>\n",
       "    <tr>\n",
       "      <th>128</th>\n",
       "      <td>0.19</td>\n",
       "      <td>0.11</td>\n",
       "      <td>0.19</td>\n",
       "      <td>26.39</td>\n",
       "      <td>18.44</td>\n",
       "      <td>31.21</td>\n",
       "    </tr>\n",
       "    <tr>\n",
       "      <th>24</th>\n",
       "      <td>0.77</td>\n",
       "      <td>0.54</td>\n",
       "      <td>0.48</td>\n",
       "      <td>49.40</td>\n",
       "      <td>20.82</td>\n",
       "      <td>65.12</td>\n",
       "    </tr>\n",
       "    <tr>\n",
       "      <th>74</th>\n",
       "      <td>0.72</td>\n",
       "      <td>0.19</td>\n",
       "      <td>0.32</td>\n",
       "      <td>61.72</td>\n",
       "      <td>23.51</td>\n",
       "      <td>55.74</td>\n",
       "    </tr>\n",
       "  </tbody>\n",
       "</table>\n",
       "</div>"
      ],
      "text/plain": [
       "       Pb    Cu    Cr    NOx    SO2   PM10\n",
       "41   0.61  0.54  0.69  17.07  13.16  74.60\n",
       "91   0.55  0.06  0.42  17.52  11.75  65.20\n",
       "128  0.19  0.11  0.19  26.39  18.44  31.21\n",
       "24   0.77  0.54  0.48  49.40  20.82  65.12\n",
       "74   0.72  0.19  0.32  61.72  23.51  55.74"
      ]
     },
     "execution_count": 41,
     "metadata": {},
     "output_type": "execute_result"
    }
   ],
   "source": [
    "df_test=pd.concat([X_test,y_test],axis=1)\n",
    "\n",
    "df_test.head()"
   ]
  },
  {
   "cell_type": "code",
   "execution_count": 42,
   "id": "e29b6f32",
   "metadata": {
    "scrolled": true
   },
   "outputs": [
    {
     "data": {
      "text/html": [
       "<div>\n",
       "<style scoped>\n",
       "    .dataframe tbody tr th:only-of-type {\n",
       "        vertical-align: middle;\n",
       "    }\n",
       "\n",
       "    .dataframe tbody tr th {\n",
       "        vertical-align: top;\n",
       "    }\n",
       "\n",
       "    .dataframe thead th {\n",
       "        text-align: right;\n",
       "    }\n",
       "</style>\n",
       "<table border=\"1\" class=\"dataframe\">\n",
       "  <thead>\n",
       "    <tr style=\"text-align: right;\">\n",
       "      <th></th>\n",
       "      <th>Pb</th>\n",
       "      <th>Cu</th>\n",
       "      <th>Cr</th>\n",
       "      <th>NOx</th>\n",
       "      <th>SO2</th>\n",
       "      <th>PM10</th>\n",
       "      <th>Prediction</th>\n",
       "    </tr>\n",
       "  </thead>\n",
       "  <tbody>\n",
       "    <tr>\n",
       "      <th>41</th>\n",
       "      <td>0.61</td>\n",
       "      <td>0.54</td>\n",
       "      <td>0.69</td>\n",
       "      <td>17.07</td>\n",
       "      <td>13.16</td>\n",
       "      <td>74.60</td>\n",
       "      <td>78.647863</td>\n",
       "    </tr>\n",
       "    <tr>\n",
       "      <th>91</th>\n",
       "      <td>0.55</td>\n",
       "      <td>0.06</td>\n",
       "      <td>0.42</td>\n",
       "      <td>17.52</td>\n",
       "      <td>11.75</td>\n",
       "      <td>65.20</td>\n",
       "      <td>64.056674</td>\n",
       "    </tr>\n",
       "    <tr>\n",
       "      <th>128</th>\n",
       "      <td>0.19</td>\n",
       "      <td>0.11</td>\n",
       "      <td>0.19</td>\n",
       "      <td>26.39</td>\n",
       "      <td>18.44</td>\n",
       "      <td>31.21</td>\n",
       "      <td>40.436942</td>\n",
       "    </tr>\n",
       "    <tr>\n",
       "      <th>24</th>\n",
       "      <td>0.77</td>\n",
       "      <td>0.54</td>\n",
       "      <td>0.48</td>\n",
       "      <td>49.40</td>\n",
       "      <td>20.82</td>\n",
       "      <td>65.12</td>\n",
       "      <td>74.786130</td>\n",
       "    </tr>\n",
       "    <tr>\n",
       "      <th>74</th>\n",
       "      <td>0.72</td>\n",
       "      <td>0.19</td>\n",
       "      <td>0.32</td>\n",
       "      <td>61.72</td>\n",
       "      <td>23.51</td>\n",
       "      <td>55.74</td>\n",
       "      <td>65.616217</td>\n",
       "    </tr>\n",
       "  </tbody>\n",
       "</table>\n",
       "</div>"
      ],
      "text/plain": [
       "       Pb    Cu    Cr    NOx    SO2   PM10  Prediction\n",
       "41   0.61  0.54  0.69  17.07  13.16  74.60   78.647863\n",
       "91   0.55  0.06  0.42  17.52  11.75  65.20   64.056674\n",
       "128  0.19  0.11  0.19  26.39  18.44  31.21   40.436942\n",
       "24   0.77  0.54  0.48  49.40  20.82  65.12   74.786130\n",
       "74   0.72  0.19  0.32  61.72  23.51  55.74   65.616217"
      ]
     },
     "execution_count": 42,
     "metadata": {},
     "output_type": "execute_result"
    }
   ],
   "source": [
    "df_test['Prediction']=model2.predict(df_test) # predict = all row prediction ( Auto )\n",
    "df_test.head()"
   ]
  },
  {
   "cell_type": "code",
   "execution_count": 46,
   "id": "e337657f",
   "metadata": {
    "scrolled": true
   },
   "outputs": [
    {
     "data": {
      "text/html": [
       "<div>\n",
       "<style scoped>\n",
       "    .dataframe tbody tr th:only-of-type {\n",
       "        vertical-align: middle;\n",
       "    }\n",
       "\n",
       "    .dataframe tbody tr th {\n",
       "        vertical-align: top;\n",
       "    }\n",
       "\n",
       "    .dataframe thead th {\n",
       "        text-align: right;\n",
       "    }\n",
       "</style>\n",
       "<table border=\"1\" class=\"dataframe\">\n",
       "  <thead>\n",
       "    <tr style=\"text-align: right;\">\n",
       "      <th></th>\n",
       "      <th>Pb</th>\n",
       "      <th>Cu</th>\n",
       "      <th>Cr</th>\n",
       "      <th>NOx</th>\n",
       "      <th>SO2</th>\n",
       "      <th>PM10</th>\n",
       "      <th>Prediction</th>\n",
       "      <th>Error</th>\n",
       "      <th>Square_Error</th>\n",
       "    </tr>\n",
       "  </thead>\n",
       "  <tbody>\n",
       "    <tr>\n",
       "      <th>41</th>\n",
       "      <td>0.6100</td>\n",
       "      <td>0.5400</td>\n",
       "      <td>0.6900</td>\n",
       "      <td>17.070</td>\n",
       "      <td>13.1600</td>\n",
       "      <td>74.6000</td>\n",
       "      <td>78.647863</td>\n",
       "      <td>-4.047863</td>\n",
       "      <td>16.385194</td>\n",
       "    </tr>\n",
       "    <tr>\n",
       "      <th>91</th>\n",
       "      <td>0.5500</td>\n",
       "      <td>0.0600</td>\n",
       "      <td>0.4200</td>\n",
       "      <td>17.520</td>\n",
       "      <td>11.7500</td>\n",
       "      <td>65.2000</td>\n",
       "      <td>64.056674</td>\n",
       "      <td>1.143326</td>\n",
       "      <td>1.307193</td>\n",
       "    </tr>\n",
       "    <tr>\n",
       "      <th>128</th>\n",
       "      <td>0.1900</td>\n",
       "      <td>0.1100</td>\n",
       "      <td>0.1900</td>\n",
       "      <td>26.390</td>\n",
       "      <td>18.4400</td>\n",
       "      <td>31.2100</td>\n",
       "      <td>40.436942</td>\n",
       "      <td>-9.226942</td>\n",
       "      <td>85.136463</td>\n",
       "    </tr>\n",
       "    <tr>\n",
       "      <th>24</th>\n",
       "      <td>0.7700</td>\n",
       "      <td>0.5400</td>\n",
       "      <td>0.4800</td>\n",
       "      <td>49.400</td>\n",
       "      <td>20.8200</td>\n",
       "      <td>65.1200</td>\n",
       "      <td>74.786130</td>\n",
       "      <td>-9.666130</td>\n",
       "      <td>93.434067</td>\n",
       "    </tr>\n",
       "    <tr>\n",
       "      <th>74</th>\n",
       "      <td>0.7200</td>\n",
       "      <td>0.1900</td>\n",
       "      <td>0.3200</td>\n",
       "      <td>61.720</td>\n",
       "      <td>23.5100</td>\n",
       "      <td>55.7400</td>\n",
       "      <td>65.616217</td>\n",
       "      <td>-9.876217</td>\n",
       "      <td>97.539660</td>\n",
       "    </tr>\n",
       "    <tr>\n",
       "      <th>133</th>\n",
       "      <td>0.3400</td>\n",
       "      <td>0.2100</td>\n",
       "      <td>0.2200</td>\n",
       "      <td>19.370</td>\n",
       "      <td>10.0700</td>\n",
       "      <td>36.9300</td>\n",
       "      <td>47.250761</td>\n",
       "      <td>-10.320761</td>\n",
       "      <td>106.518103</td>\n",
       "    </tr>\n",
       "    <tr>\n",
       "      <th>131</th>\n",
       "      <td>0.1100</td>\n",
       "      <td>0.2200</td>\n",
       "      <td>0.1900</td>\n",
       "      <td>21.460</td>\n",
       "      <td>17.7200</td>\n",
       "      <td>35.8800</td>\n",
       "      <td>37.538761</td>\n",
       "      <td>-1.658761</td>\n",
       "      <td>2.751487</td>\n",
       "    </tr>\n",
       "    <tr>\n",
       "      <th>139</th>\n",
       "      <td>0.0000</td>\n",
       "      <td>0.0000</td>\n",
       "      <td>0.0000</td>\n",
       "      <td>37.000</td>\n",
       "      <td>22.4300</td>\n",
       "      <td>34.1200</td>\n",
       "      <td>24.815483</td>\n",
       "      <td>9.304517</td>\n",
       "      <td>86.574029</td>\n",
       "    </tr>\n",
       "    <tr>\n",
       "      <th>143</th>\n",
       "      <td>0.0000</td>\n",
       "      <td>0.0000</td>\n",
       "      <td>0.0000</td>\n",
       "      <td>30.520</td>\n",
       "      <td>24.5100</td>\n",
       "      <td>37.0800</td>\n",
       "      <td>24.815483</td>\n",
       "      <td>12.264517</td>\n",
       "      <td>150.418368</td>\n",
       "    </tr>\n",
       "    <tr>\n",
       "      <th>42</th>\n",
       "      <td>0.5900</td>\n",
       "      <td>0.4200</td>\n",
       "      <td>0.6000</td>\n",
       "      <td>41.620</td>\n",
       "      <td>26.7100</td>\n",
       "      <td>67.9600</td>\n",
       "      <td>73.784133</td>\n",
       "      <td>-5.824133</td>\n",
       "      <td>33.920530</td>\n",
       "    </tr>\n",
       "    <tr>\n",
       "      <th>63</th>\n",
       "      <td>1.3900</td>\n",
       "      <td>0.5300</td>\n",
       "      <td>0.7100</td>\n",
       "      <td>80.720</td>\n",
       "      <td>34.3100</td>\n",
       "      <td>141.1100</td>\n",
       "      <td>107.824952</td>\n",
       "      <td>33.285048</td>\n",
       "      <td>1107.894403</td>\n",
       "    </tr>\n",
       "    <tr>\n",
       "      <th>8</th>\n",
       "      <td>0.9500</td>\n",
       "      <td>0.0700</td>\n",
       "      <td>0.1900</td>\n",
       "      <td>26.080</td>\n",
       "      <td>16.6800</td>\n",
       "      <td>67.9500</td>\n",
       "      <td>67.969668</td>\n",
       "      <td>-0.019668</td>\n",
       "      <td>0.000387</td>\n",
       "    </tr>\n",
       "    <tr>\n",
       "      <th>142</th>\n",
       "      <td>0.0000</td>\n",
       "      <td>0.0000</td>\n",
       "      <td>0.0000</td>\n",
       "      <td>26.750</td>\n",
       "      <td>19.6600</td>\n",
       "      <td>29.6600</td>\n",
       "      <td>24.815483</td>\n",
       "      <td>4.844517</td>\n",
       "      <td>23.469341</td>\n",
       "    </tr>\n",
       "    <tr>\n",
       "      <th>89</th>\n",
       "      <td>0.7600</td>\n",
       "      <td>0.0800</td>\n",
       "      <td>0.4000</td>\n",
       "      <td>21.180</td>\n",
       "      <td>12.4600</td>\n",
       "      <td>87.5300</td>\n",
       "      <td>70.744582</td>\n",
       "      <td>16.785418</td>\n",
       "      <td>281.750243</td>\n",
       "    </tr>\n",
       "    <tr>\n",
       "      <th>36</th>\n",
       "      <td>1.4900</td>\n",
       "      <td>1.1000</td>\n",
       "      <td>1.1400</td>\n",
       "      <td>33.750</td>\n",
       "      <td>26.1100</td>\n",
       "      <td>169.0425</td>\n",
       "      <td>131.223781</td>\n",
       "      <td>37.818719</td>\n",
       "      <td>1430.255504</td>\n",
       "    </tr>\n",
       "    <tr>\n",
       "      <th>65</th>\n",
       "      <td>1.3500</td>\n",
       "      <td>0.2900</td>\n",
       "      <td>0.4100</td>\n",
       "      <td>79.370</td>\n",
       "      <td>30.5400</td>\n",
       "      <td>110.0100</td>\n",
       "      <td>92.578581</td>\n",
       "      <td>17.431419</td>\n",
       "      <td>303.854363</td>\n",
       "    </tr>\n",
       "    <tr>\n",
       "      <th>31</th>\n",
       "      <td>0.4000</td>\n",
       "      <td>0.2100</td>\n",
       "      <td>0.2300</td>\n",
       "      <td>54.680</td>\n",
       "      <td>21.4000</td>\n",
       "      <td>40.8000</td>\n",
       "      <td>49.884306</td>\n",
       "      <td>-9.084306</td>\n",
       "      <td>82.524622</td>\n",
       "    </tr>\n",
       "    <tr>\n",
       "      <th>60</th>\n",
       "      <td>0.9200</td>\n",
       "      <td>0.0900</td>\n",
       "      <td>0.4200</td>\n",
       "      <td>55.230</td>\n",
       "      <td>28.3700</td>\n",
       "      <td>73.2100</td>\n",
       "      <td>77.460764</td>\n",
       "      <td>-4.250764</td>\n",
       "      <td>18.068997</td>\n",
       "    </tr>\n",
       "    <tr>\n",
       "      <th>13</th>\n",
       "      <td>0.4700</td>\n",
       "      <td>0.0700</td>\n",
       "      <td>0.1000</td>\n",
       "      <td>29.840</td>\n",
       "      <td>16.2700</td>\n",
       "      <td>31.3100</td>\n",
       "      <td>46.441394</td>\n",
       "      <td>-15.131394</td>\n",
       "      <td>228.959078</td>\n",
       "    </tr>\n",
       "    <tr>\n",
       "      <th>90</th>\n",
       "      <td>0.6200</td>\n",
       "      <td>0.0800</td>\n",
       "      <td>0.3300</td>\n",
       "      <td>26.130</td>\n",
       "      <td>20.3800</td>\n",
       "      <td>79.3900</td>\n",
       "      <td>62.453399</td>\n",
       "      <td>16.936601</td>\n",
       "      <td>286.848446</td>\n",
       "    </tr>\n",
       "    <tr>\n",
       "      <th>28</th>\n",
       "      <td>0.4400</td>\n",
       "      <td>0.4200</td>\n",
       "      <td>0.2000</td>\n",
       "      <td>51.640</td>\n",
       "      <td>30.7700</td>\n",
       "      <td>59.9900</td>\n",
       "      <td>49.953669</td>\n",
       "      <td>10.036331</td>\n",
       "      <td>100.727938</td>\n",
       "    </tr>\n",
       "    <tr>\n",
       "      <th>101</th>\n",
       "      <td>1.0500</td>\n",
       "      <td>1.0700</td>\n",
       "      <td>1.0000</td>\n",
       "      <td>42.770</td>\n",
       "      <td>27.1700</td>\n",
       "      <td>129.9200</td>\n",
       "      <td>108.845051</td>\n",
       "      <td>21.074949</td>\n",
       "      <td>444.153460</td>\n",
       "    </tr>\n",
       "    <tr>\n",
       "      <th>136</th>\n",
       "      <td>0.0000</td>\n",
       "      <td>0.0000</td>\n",
       "      <td>0.0900</td>\n",
       "      <td>21.440</td>\n",
       "      <td>18.0200</td>\n",
       "      <td>41.2300</td>\n",
       "      <td>28.954667</td>\n",
       "      <td>12.275333</td>\n",
       "      <td>150.683788</td>\n",
       "    </tr>\n",
       "    <tr>\n",
       "      <th>37</th>\n",
       "      <td>1.4000</td>\n",
       "      <td>1.2775</td>\n",
       "      <td>1.0200</td>\n",
       "      <td>64.220</td>\n",
       "      <td>40.0000</td>\n",
       "      <td>154.9000</td>\n",
       "      <td>122.444415</td>\n",
       "      <td>32.455585</td>\n",
       "      <td>1053.365023</td>\n",
       "    </tr>\n",
       "    <tr>\n",
       "      <th>62</th>\n",
       "      <td>1.4200</td>\n",
       "      <td>0.1100</td>\n",
       "      <td>0.9200</td>\n",
       "      <td>95.740</td>\n",
       "      <td>45.8025</td>\n",
       "      <td>153.8900</td>\n",
       "      <td>118.569867</td>\n",
       "      <td>35.320133</td>\n",
       "      <td>1247.511825</td>\n",
       "    </tr>\n",
       "    <tr>\n",
       "      <th>121</th>\n",
       "      <td>0.2200</td>\n",
       "      <td>0.1500</td>\n",
       "      <td>0.0500</td>\n",
       "      <td>29.110</td>\n",
       "      <td>11.7000</td>\n",
       "      <td>35.4800</td>\n",
       "      <td>35.085030</td>\n",
       "      <td>0.394970</td>\n",
       "      <td>0.156002</td>\n",
       "    </tr>\n",
       "    <tr>\n",
       "      <th>20</th>\n",
       "      <td>1.9700</td>\n",
       "      <td>0.9800</td>\n",
       "      <td>0.8200</td>\n",
       "      <td>87.730</td>\n",
       "      <td>32.1400</td>\n",
       "      <td>110.4100</td>\n",
       "      <td>133.895772</td>\n",
       "      <td>-23.485772</td>\n",
       "      <td>551.581473</td>\n",
       "    </tr>\n",
       "    <tr>\n",
       "      <th>33</th>\n",
       "      <td>0.4000</td>\n",
       "      <td>0.1900</td>\n",
       "      <td>0.2000</td>\n",
       "      <td>38.090</td>\n",
       "      <td>26.1900</td>\n",
       "      <td>41.4400</td>\n",
       "      <td>48.504578</td>\n",
       "      <td>-7.064578</td>\n",
       "      <td>49.908267</td>\n",
       "    </tr>\n",
       "    <tr>\n",
       "      <th>116</th>\n",
       "      <td>0.1000</td>\n",
       "      <td>0.0200</td>\n",
       "      <td>0.0200</td>\n",
       "      <td>17.110</td>\n",
       "      <td>8.0700</td>\n",
       "      <td>20.1500</td>\n",
       "      <td>29.358029</td>\n",
       "      <td>-9.208029</td>\n",
       "      <td>84.787800</td>\n",
       "    </tr>\n",
       "    <tr>\n",
       "      <th>119</th>\n",
       "      <td>0.1800</td>\n",
       "      <td>0.0500</td>\n",
       "      <td>0.0100</td>\n",
       "      <td>16.680</td>\n",
       "      <td>5.9800</td>\n",
       "      <td>32.4400</td>\n",
       "      <td>31.796301</td>\n",
       "      <td>0.643699</td>\n",
       "      <td>0.414348</td>\n",
       "    </tr>\n",
       "    <tr>\n",
       "      <th>59</th>\n",
       "      <td>0.7800</td>\n",
       "      <td>0.0100</td>\n",
       "      <td>0.3800</td>\n",
       "      <td>45.150</td>\n",
       "      <td>22.4500</td>\n",
       "      <td>64.6700</td>\n",
       "      <td>70.549309</td>\n",
       "      <td>-5.879309</td>\n",
       "      <td>34.566276</td>\n",
       "    </tr>\n",
       "    <tr>\n",
       "      <th>4</th>\n",
       "      <td>0.6000</td>\n",
       "      <td>0.4100</td>\n",
       "      <td>1.3225</td>\n",
       "      <td>48.710</td>\n",
       "      <td>19.2300</td>\n",
       "      <td>75.0500</td>\n",
       "      <td>107.374856</td>\n",
       "      <td>-32.324856</td>\n",
       "      <td>1044.896325</td>\n",
       "    </tr>\n",
       "    <tr>\n",
       "      <th>53</th>\n",
       "      <td>0.5300</td>\n",
       "      <td>0.0100</td>\n",
       "      <td>0.1600</td>\n",
       "      <td>44.310</td>\n",
       "      <td>21.9900</td>\n",
       "      <td>86.7800</td>\n",
       "      <td>51.374486</td>\n",
       "      <td>35.405514</td>\n",
       "      <td>1253.550418</td>\n",
       "    </tr>\n",
       "    <tr>\n",
       "      <th>82</th>\n",
       "      <td>1.1000</td>\n",
       "      <td>0.9900</td>\n",
       "      <td>0.6900</td>\n",
       "      <td>78.280</td>\n",
       "      <td>35.6900</td>\n",
       "      <td>99.5700</td>\n",
       "      <td>96.399225</td>\n",
       "      <td>3.170775</td>\n",
       "      <td>10.053813</td>\n",
       "    </tr>\n",
       "    <tr>\n",
       "      <th>29</th>\n",
       "      <td>0.4000</td>\n",
       "      <td>0.1900</td>\n",
       "      <td>0.2100</td>\n",
       "      <td>57.170</td>\n",
       "      <td>22.6400</td>\n",
       "      <td>35.8200</td>\n",
       "      <td>48.964488</td>\n",
       "      <td>-13.144488</td>\n",
       "      <td>172.777556</td>\n",
       "    </tr>\n",
       "    <tr>\n",
       "      <th>124</th>\n",
       "      <td>0.2900</td>\n",
       "      <td>0.2000</td>\n",
       "      <td>0.0500</td>\n",
       "      <td>28.270</td>\n",
       "      <td>18.9200</td>\n",
       "      <td>35.1100</td>\n",
       "      <td>37.620938</td>\n",
       "      <td>-2.510938</td>\n",
       "      <td>6.304812</td>\n",
       "    </tr>\n",
       "    <tr>\n",
       "      <th>0</th>\n",
       "      <td>2.0825</td>\n",
       "      <td>0.5300</td>\n",
       "      <td>0.6100</td>\n",
       "      <td>84.170</td>\n",
       "      <td>40.3700</td>\n",
       "      <td>120.7100</td>\n",
       "      <td>128.313243</td>\n",
       "      <td>-7.603243</td>\n",
       "      <td>57.809310</td>\n",
       "    </tr>\n",
       "    <tr>\n",
       "      <th>79</th>\n",
       "      <td>0.8800</td>\n",
       "      <td>0.8700</td>\n",
       "      <td>0.5600</td>\n",
       "      <td>52.890</td>\n",
       "      <td>20.9300</td>\n",
       "      <td>84.0700</td>\n",
       "      <td>82.450404</td>\n",
       "      <td>1.619596</td>\n",
       "      <td>2.623090</td>\n",
       "    </tr>\n",
       "    <tr>\n",
       "      <th>95</th>\n",
       "      <td>1.0700</td>\n",
       "      <td>0.2800</td>\n",
       "      <td>0.8500</td>\n",
       "      <td>29.370</td>\n",
       "      <td>19.9400</td>\n",
       "      <td>121.0800</td>\n",
       "      <td>102.670957</td>\n",
       "      <td>18.409043</td>\n",
       "      <td>338.892878</td>\n",
       "    </tr>\n",
       "    <tr>\n",
       "      <th>147</th>\n",
       "      <td>0.1000</td>\n",
       "      <td>0.0300</td>\n",
       "      <td>0.0900</td>\n",
       "      <td>47.560</td>\n",
       "      <td>24.1400</td>\n",
       "      <td>40.3800</td>\n",
       "      <td>32.577394</td>\n",
       "      <td>7.802606</td>\n",
       "      <td>60.880653</td>\n",
       "    </tr>\n",
       "    <tr>\n",
       "      <th>144</th>\n",
       "      <td>0.1300</td>\n",
       "      <td>0.0300</td>\n",
       "      <td>0.1100</td>\n",
       "      <td>56.720</td>\n",
       "      <td>31.2300</td>\n",
       "      <td>41.1200</td>\n",
       "      <td>34.584031</td>\n",
       "      <td>6.535969</td>\n",
       "      <td>42.718887</td>\n",
       "    </tr>\n",
       "    <tr>\n",
       "      <th>5</th>\n",
       "      <td>0.5200</td>\n",
       "      <td>0.6900</td>\n",
       "      <td>0.4200</td>\n",
       "      <td>30.470</td>\n",
       "      <td>17.4600</td>\n",
       "      <td>64.4100</td>\n",
       "      <td>62.969856</td>\n",
       "      <td>1.440144</td>\n",
       "      <td>2.074014</td>\n",
       "    </tr>\n",
       "    <tr>\n",
       "      <th>16</th>\n",
       "      <td>0.3400</td>\n",
       "      <td>0.0100</td>\n",
       "      <td>0.0400</td>\n",
       "      <td>21.410</td>\n",
       "      <td>10.1500</td>\n",
       "      <td>41.0500</td>\n",
       "      <td>38.972393</td>\n",
       "      <td>2.077607</td>\n",
       "      <td>4.316452</td>\n",
       "    </tr>\n",
       "    <tr>\n",
       "      <th>137</th>\n",
       "      <td>0.0000</td>\n",
       "      <td>0.0000</td>\n",
       "      <td>0.0000</td>\n",
       "      <td>13.210</td>\n",
       "      <td>9.0800</td>\n",
       "      <td>61.8900</td>\n",
       "      <td>24.815483</td>\n",
       "      <td>37.074517</td>\n",
       "      <td>1374.519782</td>\n",
       "    </tr>\n",
       "    <tr>\n",
       "      <th>45</th>\n",
       "      <td>0.6700</td>\n",
       "      <td>0.2000</td>\n",
       "      <td>0.3700</td>\n",
       "      <td>26.710</td>\n",
       "      <td>19.4100</td>\n",
       "      <td>72.0400</td>\n",
       "      <td>66.104400</td>\n",
       "      <td>5.935600</td>\n",
       "      <td>35.231346</td>\n",
       "    </tr>\n",
       "    <tr>\n",
       "      <th>35</th>\n",
       "      <td>1.7500</td>\n",
       "      <td>1.2000</td>\n",
       "      <td>1.3000</td>\n",
       "      <td>98.135</td>\n",
       "      <td>42.2400</td>\n",
       "      <td>169.0425</td>\n",
       "      <td>148.001421</td>\n",
       "      <td>21.041079</td>\n",
       "      <td>442.727015</td>\n",
       "    </tr>\n",
       "  </tbody>\n",
       "</table>\n",
       "</div>"
      ],
      "text/plain": [
       "         Pb      Cu      Cr     NOx      SO2      PM10  Prediction      Error  \\\n",
       "41   0.6100  0.5400  0.6900  17.070  13.1600   74.6000   78.647863  -4.047863   \n",
       "91   0.5500  0.0600  0.4200  17.520  11.7500   65.2000   64.056674   1.143326   \n",
       "128  0.1900  0.1100  0.1900  26.390  18.4400   31.2100   40.436942  -9.226942   \n",
       "24   0.7700  0.5400  0.4800  49.400  20.8200   65.1200   74.786130  -9.666130   \n",
       "74   0.7200  0.1900  0.3200  61.720  23.5100   55.7400   65.616217  -9.876217   \n",
       "133  0.3400  0.2100  0.2200  19.370  10.0700   36.9300   47.250761 -10.320761   \n",
       "131  0.1100  0.2200  0.1900  21.460  17.7200   35.8800   37.538761  -1.658761   \n",
       "139  0.0000  0.0000  0.0000  37.000  22.4300   34.1200   24.815483   9.304517   \n",
       "143  0.0000  0.0000  0.0000  30.520  24.5100   37.0800   24.815483  12.264517   \n",
       "42   0.5900  0.4200  0.6000  41.620  26.7100   67.9600   73.784133  -5.824133   \n",
       "63   1.3900  0.5300  0.7100  80.720  34.3100  141.1100  107.824952  33.285048   \n",
       "8    0.9500  0.0700  0.1900  26.080  16.6800   67.9500   67.969668  -0.019668   \n",
       "142  0.0000  0.0000  0.0000  26.750  19.6600   29.6600   24.815483   4.844517   \n",
       "89   0.7600  0.0800  0.4000  21.180  12.4600   87.5300   70.744582  16.785418   \n",
       "36   1.4900  1.1000  1.1400  33.750  26.1100  169.0425  131.223781  37.818719   \n",
       "65   1.3500  0.2900  0.4100  79.370  30.5400  110.0100   92.578581  17.431419   \n",
       "31   0.4000  0.2100  0.2300  54.680  21.4000   40.8000   49.884306  -9.084306   \n",
       "60   0.9200  0.0900  0.4200  55.230  28.3700   73.2100   77.460764  -4.250764   \n",
       "13   0.4700  0.0700  0.1000  29.840  16.2700   31.3100   46.441394 -15.131394   \n",
       "90   0.6200  0.0800  0.3300  26.130  20.3800   79.3900   62.453399  16.936601   \n",
       "28   0.4400  0.4200  0.2000  51.640  30.7700   59.9900   49.953669  10.036331   \n",
       "101  1.0500  1.0700  1.0000  42.770  27.1700  129.9200  108.845051  21.074949   \n",
       "136  0.0000  0.0000  0.0900  21.440  18.0200   41.2300   28.954667  12.275333   \n",
       "37   1.4000  1.2775  1.0200  64.220  40.0000  154.9000  122.444415  32.455585   \n",
       "62   1.4200  0.1100  0.9200  95.740  45.8025  153.8900  118.569867  35.320133   \n",
       "121  0.2200  0.1500  0.0500  29.110  11.7000   35.4800   35.085030   0.394970   \n",
       "20   1.9700  0.9800  0.8200  87.730  32.1400  110.4100  133.895772 -23.485772   \n",
       "33   0.4000  0.1900  0.2000  38.090  26.1900   41.4400   48.504578  -7.064578   \n",
       "116  0.1000  0.0200  0.0200  17.110   8.0700   20.1500   29.358029  -9.208029   \n",
       "119  0.1800  0.0500  0.0100  16.680   5.9800   32.4400   31.796301   0.643699   \n",
       "59   0.7800  0.0100  0.3800  45.150  22.4500   64.6700   70.549309  -5.879309   \n",
       "4    0.6000  0.4100  1.3225  48.710  19.2300   75.0500  107.374856 -32.324856   \n",
       "53   0.5300  0.0100  0.1600  44.310  21.9900   86.7800   51.374486  35.405514   \n",
       "82   1.1000  0.9900  0.6900  78.280  35.6900   99.5700   96.399225   3.170775   \n",
       "29   0.4000  0.1900  0.2100  57.170  22.6400   35.8200   48.964488 -13.144488   \n",
       "124  0.2900  0.2000  0.0500  28.270  18.9200   35.1100   37.620938  -2.510938   \n",
       "0    2.0825  0.5300  0.6100  84.170  40.3700  120.7100  128.313243  -7.603243   \n",
       "79   0.8800  0.8700  0.5600  52.890  20.9300   84.0700   82.450404   1.619596   \n",
       "95   1.0700  0.2800  0.8500  29.370  19.9400  121.0800  102.670957  18.409043   \n",
       "147  0.1000  0.0300  0.0900  47.560  24.1400   40.3800   32.577394   7.802606   \n",
       "144  0.1300  0.0300  0.1100  56.720  31.2300   41.1200   34.584031   6.535969   \n",
       "5    0.5200  0.6900  0.4200  30.470  17.4600   64.4100   62.969856   1.440144   \n",
       "16   0.3400  0.0100  0.0400  21.410  10.1500   41.0500   38.972393   2.077607   \n",
       "137  0.0000  0.0000  0.0000  13.210   9.0800   61.8900   24.815483  37.074517   \n",
       "45   0.6700  0.2000  0.3700  26.710  19.4100   72.0400   66.104400   5.935600   \n",
       "35   1.7500  1.2000  1.3000  98.135  42.2400  169.0425  148.001421  21.041079   \n",
       "\n",
       "     Square_Error  \n",
       "41      16.385194  \n",
       "91       1.307193  \n",
       "128     85.136463  \n",
       "24      93.434067  \n",
       "74      97.539660  \n",
       "133    106.518103  \n",
       "131      2.751487  \n",
       "139     86.574029  \n",
       "143    150.418368  \n",
       "42      33.920530  \n",
       "63    1107.894403  \n",
       "8        0.000387  \n",
       "142     23.469341  \n",
       "89     281.750243  \n",
       "36    1430.255504  \n",
       "65     303.854363  \n",
       "31      82.524622  \n",
       "60      18.068997  \n",
       "13     228.959078  \n",
       "90     286.848446  \n",
       "28     100.727938  \n",
       "101    444.153460  \n",
       "136    150.683788  \n",
       "37    1053.365023  \n",
       "62    1247.511825  \n",
       "121      0.156002  \n",
       "20     551.581473  \n",
       "33      49.908267  \n",
       "116     84.787800  \n",
       "119      0.414348  \n",
       "59      34.566276  \n",
       "4     1044.896325  \n",
       "53    1253.550418  \n",
       "82      10.053813  \n",
       "29     172.777556  \n",
       "124      6.304812  \n",
       "0       57.809310  \n",
       "79       2.623090  \n",
       "95     338.892878  \n",
       "147     60.880653  \n",
       "144     42.718887  \n",
       "5        2.074014  \n",
       "16       4.316452  \n",
       "137   1374.519782  \n",
       "45      35.231346  \n",
       "35     442.727015  "
      ]
     },
     "execution_count": 46,
     "metadata": {},
     "output_type": "execute_result"
    }
   ],
   "source": [
    "df_test['Error']=df_test.PM10-df_test.Prediction\n",
    "df_test['Square_Error']=(df_test.Error)*(df_test.Error)\n",
    "df_test"
   ]
  },
  {
   "cell_type": "code",
   "execution_count": 47,
   "id": "29cd2b40",
   "metadata": {},
   "outputs": [
    {
     "data": {
      "text/plain": [
       "282.7139788741386"
      ]
     },
     "execution_count": 47,
     "metadata": {},
     "output_type": "execute_result"
    }
   ],
   "source": [
    "np.mean(df_test.Square_Error)\n"
   ]
  },
  {
   "cell_type": "code",
   "execution_count": 50,
   "id": "5a76ea57",
   "metadata": {},
   "outputs": [
    {
     "data": {
      "text/plain": [
       "16.81409825117006"
      ]
     },
     "execution_count": 50,
     "metadata": {},
     "output_type": "execute_result"
    }
   ],
   "source": [
    "import math\n",
    "rsme = math.sqrt(282.7139)\n",
    "rsme"
   ]
  },
  {
   "cell_type": "code",
   "execution_count": 52,
   "id": "fc8b07fd",
   "metadata": {},
   "outputs": [
    {
     "name": "stdout",
     "output_type": "stream",
     "text": [
      "RMSE 16.8\n"
     ]
    }
   ],
   "source": [
    "from sklearn.metrics import mean_squared_error \n",
    "# calculate the mean squared error\n",
    "model_mse = mean_squared_error(df['PM10'],df['fitted_value'])\n",
    "# calulcate the root mean squared error\n",
    "model_rmse = math.sqrt(model_mse)\n",
    "\n",
    "print(\"RMSE {:.3}\".format(model_rmse))"
   ]
  },
  {
   "cell_type": "code",
   "execution_count": 53,
   "id": "ab68dad9",
   "metadata": {
    "scrolled": true
   },
   "outputs": [
    {
     "data": {
      "text/plain": [
       "<AxesSubplot:ylabel='Count'>"
      ]
     },
     "execution_count": 53,
     "metadata": {},
     "output_type": "execute_result"
    },
    {
     "data": {
      "image/png": "[encoded data removed]",
      "text/plain": [
       "<Figure size 432x288 with 1 Axes>"
      ]
     },
     "metadata": {
      "needs_background": "light"
     },
     "output_type": "display_data"
    }
   ],
   "source": [
    "sns.histplot('PM10')"
   ]
  },
  {
   "cell_type": "code",
   "execution_count": 59,
   "id": "a1405a03",
   "metadata": {
    "scrolled": true
   },
   "outputs": [
    {
     "data": {
      "text/plain": [
       "<AxesSubplot:ylabel='Frequency'>"
      ]
     },
     "execution_count": 59,
     "metadata": {},
     "output_type": "execute_result"
    },
    {
     "data": {
      "image/png": "[encoded data removed]",
      "text/plain": [
       "<Figure size 432x288 with 1 Axes>"
      ]
     },
     "metadata": {
      "needs_background": "light"
     },
     "output_type": "display_data"
    }
   ],
   "source": [
    "df.plot.hist(y='PM10')"
   ]
  },
  {
   "cell_type": "markdown",
   "id": "025dbbdf",
   "metadata": {},
   "source": [
    "### Test"
   ]
  },
  {
   "cell_type": "code",
   "execution_count": 43,
   "id": "707324f0",
   "metadata": {
    "scrolled": true
   },
   "outputs": [
    {
     "name": "stdout",
     "output_type": "stream",
     "text": [
      "R2 score for model Performance on Test 0.83\n"
     ]
    }
   ],
   "source": [
    "from sklearn.metrics import r2_score\n",
    "r2 = r2_score(df_test.PM10, df_test.Prediction)\n",
    "print('R2 score for model Performance on Test', np.round(r2,2))"
   ]
  },
  {
   "cell_type": "markdown",
   "id": "e9b98e92",
   "metadata": {},
   "source": [
    "### Train\n",
    "\n"
   ]
  },
  {
   "cell_type": "code",
   "execution_count": 44,
   "id": "417243f4",
   "metadata": {
    "scrolled": true
   },
   "outputs": [
    {
     "name": "stdout",
     "output_type": "stream",
     "text": [
      "R2 score for model Performance on Test 0.81\n"
     ]
    }
   ],
   "source": [
    "from sklearn.metrics import r2_score\n",
    "r2 = r2_score(df.PM10,df.fitted_value)\n",
    "print('R2 score for model Performance on Test', np.round(r2,2))"
   ]
  },
  {
   "cell_type": "code",
   "execution_count": null,
   "id": "6e35abaf",
   "metadata": {},
   "outputs": [],
   "source": [
    "        "
   ]
  }
 ],
 "metadata": {
  "kernelspec": {
   "display_name": "Python 3 (ipykernel)",
   "language": "python",
   "name": "python3"
  },
  "language_info": {
   "codemirror_mode": {
    "name": "ipython",
    "version": 3
   },
   "file_extension": ".py",
   "mimetype": "text/x-python",
   "name": "python",
   "nbconvert_exporter": "python",
   "pygments_lexer": "ipython3",
   "version": "3.9.12"
  }
 },
 "nbformat": 4,
 "nbformat_minor": 5
}
